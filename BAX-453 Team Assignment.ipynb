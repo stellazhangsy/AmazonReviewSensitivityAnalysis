{
 "cells": [
  {
   "cell_type": "markdown",
   "metadata": {},
   "source": [
    "# BAX-453 Team Assignment"
   ]
  },
  {
   "cell_type": "code",
   "execution_count": 1,
   "metadata": {
    "ExecuteTime": {
     "end_time": "2020-05-20T18:14:53.287577Z",
     "start_time": "2020-05-20T18:14:48.877498Z"
    }
   },
   "outputs": [],
   "source": [
    "# load packages\n",
    "import pandas as pd\n",
    "import numpy as np\n",
    "import matplotlib.pyplot as plt\n",
    "from scipy import sparse\n",
    "import random\n",
    "import re\n",
    "import scipy\n",
    "from scipy import sparse\n",
    "import seaborn as sns\n",
    "# nlp \n",
    "import nltk \n",
    "from nltk.tokenize import word_tokenize\n",
    "from nltk.corpus import stopwords\n",
    "from nltk.stem import PorterStemmer\n",
    "import string\n",
    "from sklearn.feature_extraction.text import CountVectorizer\n",
    "# word embedding\n",
    "import gensim \n",
    "#from gensim.models import Word2Vec\n",
    "from sklearn.feature_extraction.text import TfidfVectorizer\n",
    "from sklearn.feature_extraction.text import CountVectorizer\n",
    "import gensim \n",
    "# sentiment\n",
    "from textblob import TextBlob\n",
    "# machine learning\n",
    "from sklearn.preprocessing import StandardScaler\n",
    "from sklearn.linear_model import LogisticRegression\n",
    "from sklearn import svm\n",
    "from sklearn.ensemble import RandomForestClassifier\n",
    "from sklearn import metrics\n",
    "from sklearn.metrics import r2_score\n",
    "from sklearn.metrics import roc_auc_score\n",
    "from sklearn.metrics import roc_curve\n",
    "from sklearn.model_selection import GridSearchCV\n",
    "from sklearn.model_selection  import train_test_split\n",
    "from sklearn.metrics import accuracy_score\n",
    "from sklearn.model_selection  import cross_val_score\n",
    "from collections import Counter\n",
    "from sklearn.metrics import accuracy_score\n",
    "from sklearn import model_selection\n",
    "from sklearn.tree import DecisionTreeClassifier\n",
    "from sklearn.metrics import classification_report\n",
    "from sklearn.metrics import confusion_matrix\n",
    "import warnings\n",
    "warnings.filterwarnings(\"ignore\")\n",
    "from sklearn.pipeline import Pipeline"
   ]
  },
  {
   "cell_type": "markdown",
   "metadata": {},
   "source": [
    "# Load data"
   ]
  },
  {
   "cell_type": "code",
   "execution_count": 2,
   "metadata": {},
   "outputs": [
    {
     "data": {
      "text/html": [
       "<div>\n",
       "<style scoped>\n",
       "    .dataframe tbody tr th:only-of-type {\n",
       "        vertical-align: middle;\n",
       "    }\n",
       "\n",
       "    .dataframe tbody tr th {\n",
       "        vertical-align: top;\n",
       "    }\n",
       "\n",
       "    .dataframe thead th {\n",
       "        text-align: right;\n",
       "    }\n",
       "</style>\n",
       "<table border=\"1\" class=\"dataframe\">\n",
       "  <thead>\n",
       "    <tr style=\"text-align: right;\">\n",
       "      <th></th>\n",
       "      <th>asin</th>\n",
       "      <th>helpful</th>\n",
       "      <th>overall</th>\n",
       "      <th>reviewText</th>\n",
       "      <th>reviewTime</th>\n",
       "      <th>reviewerID</th>\n",
       "      <th>reviewerName</th>\n",
       "      <th>summary</th>\n",
       "      <th>unixReviewTime</th>\n",
       "    </tr>\n",
       "  </thead>\n",
       "  <tbody>\n",
       "    <tr>\n",
       "      <th>0</th>\n",
       "      <td>159985130X</td>\n",
       "      <td>[1, 1]</td>\n",
       "      <td>5</td>\n",
       "      <td>This is a great little gadget to have around. ...</td>\n",
       "      <td>01 5, 2011</td>\n",
       "      <td>ALC5GH8CAMAI7</td>\n",
       "      <td>AnnN</td>\n",
       "      <td>Handy little gadget</td>\n",
       "      <td>1294185600</td>\n",
       "    </tr>\n",
       "    <tr>\n",
       "      <th>1</th>\n",
       "      <td>159985130X</td>\n",
       "      <td>[1, 1]</td>\n",
       "      <td>4</td>\n",
       "      <td>I would recommend this for a travel magnifier ...</td>\n",
       "      <td>02 18, 2012</td>\n",
       "      <td>AHKSURW85PJUE</td>\n",
       "      <td>AZ buyer \"AZ buyer\"</td>\n",
       "      <td>Small &amp; may need to encourage battery</td>\n",
       "      <td>1329523200</td>\n",
       "    </tr>\n",
       "    <tr>\n",
       "      <th>2</th>\n",
       "      <td>159985130X</td>\n",
       "      <td>[75, 77]</td>\n",
       "      <td>4</td>\n",
       "      <td>What I liked was the quality of the lens and t...</td>\n",
       "      <td>06 8, 2010</td>\n",
       "      <td>A38RMU1Y5TDP9</td>\n",
       "      <td>Bob Tobias \"Robert Tobias\"</td>\n",
       "      <td>Very good but not great</td>\n",
       "      <td>1275955200</td>\n",
       "    </tr>\n",
       "    <tr>\n",
       "      <th>3</th>\n",
       "      <td>159985130X</td>\n",
       "      <td>[56, 60]</td>\n",
       "      <td>4</td>\n",
       "      <td>Love the Great point light pocket magnifier!  ...</td>\n",
       "      <td>02 8, 2008</td>\n",
       "      <td>A1XZUG7DFXXOS4</td>\n",
       "      <td>Cat lover</td>\n",
       "      <td>great addition to your purse</td>\n",
       "      <td>1202428800</td>\n",
       "    </tr>\n",
       "    <tr>\n",
       "      <th>4</th>\n",
       "      <td>159985130X</td>\n",
       "      <td>[1, 1]</td>\n",
       "      <td>5</td>\n",
       "      <td>This is very nice. You pull out on the magnifi...</td>\n",
       "      <td>08 16, 2011</td>\n",
       "      <td>A1MS3M7M7AM13X</td>\n",
       "      <td>Cricketoes</td>\n",
       "      <td>Very nice and convenient.</td>\n",
       "      <td>1313452800</td>\n",
       "    </tr>\n",
       "  </tbody>\n",
       "</table>\n",
       "</div>"
      ],
      "text/plain": [
       "         asin   helpful  overall  \\\n",
       "0  159985130X    [1, 1]        5   \n",
       "1  159985130X    [1, 1]        4   \n",
       "2  159985130X  [75, 77]        4   \n",
       "3  159985130X  [56, 60]        4   \n",
       "4  159985130X    [1, 1]        5   \n",
       "\n",
       "                                          reviewText   reviewTime  \\\n",
       "0  This is a great little gadget to have around. ...   01 5, 2011   \n",
       "1  I would recommend this for a travel magnifier ...  02 18, 2012   \n",
       "2  What I liked was the quality of the lens and t...   06 8, 2010   \n",
       "3  Love the Great point light pocket magnifier!  ...   02 8, 2008   \n",
       "4  This is very nice. You pull out on the magnifi...  08 16, 2011   \n",
       "\n",
       "       reviewerID                reviewerName  \\\n",
       "0   ALC5GH8CAMAI7                        AnnN   \n",
       "1   AHKSURW85PJUE         AZ buyer \"AZ buyer\"   \n",
       "2   A38RMU1Y5TDP9  Bob Tobias \"Robert Tobias\"   \n",
       "3  A1XZUG7DFXXOS4                   Cat lover   \n",
       "4  A1MS3M7M7AM13X                  Cricketoes   \n",
       "\n",
       "                                 summary  unixReviewTime  \n",
       "0                    Handy little gadget      1294185600  \n",
       "1  Small & may need to encourage battery      1329523200  \n",
       "2                Very good but not great      1275955200  \n",
       "3           great addition to your purse      1202428800  \n",
       "4              Very nice and convenient.      1313452800  "
      ]
     },
     "execution_count": 2,
     "metadata": {},
     "output_type": "execute_result"
    }
   ],
   "source": [
    "# load data from local path\n",
    "df_reviews = pd.read_json('C:/Users/yifang/Desktop/UCD/BAX-453-001 Application Domains/Team Assignment/Health_and_Personal_Care_5.json', lines=True)\n",
    "df_reviews.head(5)"
   ]
  },
  {
   "cell_type": "code",
   "execution_count": 3,
   "metadata": {},
   "outputs": [],
   "source": [
    "# use subset of data to run (choose 30%)\n",
    "df_reviews = df_reviews.sample(frac=0.3, random_state=1)"
   ]
  },
  {
   "cell_type": "markdown",
   "metadata": {},
   "source": [
    "# Text vectorization techniques "
   ]
  },
  {
   "cell_type": "code",
   "execution_count": 4,
   "metadata": {
    "ExecuteTime": {
     "end_time": "2020-05-20T18:27:15.312911Z",
     "start_time": "2020-05-20T18:15:05.935594Z"
    }
   },
   "outputs": [
    {
     "name": "stdout",
     "output_type": "stream",
     "text": [
      "183867    [go, easi, pleasur, wear, right, foot, sometim...\n",
      "228691    [great, product, mix, go, work, well, use, sma...\n",
      "104561             [sister, felt, better, take, that, give]\n",
      "202076    [get, mani, recent, quit, bad, one, seem, help...\n",
      "233799    [great, pillow, best, like, cut, roll, onto, s...\n",
      "278249    [cancer, tri, get, nutrit, everi, day, battl, ...\n",
      "186846    [receiv, scale, size, great, husband, size, ac...\n",
      "17817     [product, actual, good, econom, hope, accompli...\n",
      "282448    [high, hope, product, especi, could, tell, dif...\n",
      "220272    [tinctur, benzoin, great, adhes, especi, like,...\n",
      "302941    [work, appetit, main, problem, weight, blood, ...\n",
      "21393     [love, stuff, realli, work, heal, muscl, worko...\n",
      "85588     [great, product, one, want, use, dust, two, du...\n",
      "169329    [item, sleep, better, night, job, well, get, g...\n",
      "33701               [exactli, access, easi, transport, use]\n",
      "191938    [well, laundri, deterg, hard, find, much, say,...\n",
      "337163    [fan, blend, white, mulberri, outstand, slight...\n",
      "120057    [difficult, wring, water, know, easier, good, ...\n",
      "16288     [rang, beauti, good, better, hair, skin, benef...\n",
      "85878     [see, much, effect, product, wonder, concentr,...\n",
      "200548    [almost, good, product, use, mani, good, compani]\n",
      "80664     [origin, brush, came, complet, unit, suppos, o...\n",
      "125547    [great, price, price, found, qualiti, good, an...\n",
      "235849    [good, experi, overal, admit, one, peopl, good...\n",
      "331280    [variou, size, assort, last, us, next, year, t...\n",
      "111904    [recent, switch, brand, magnesium, take, day, ...\n",
      "202346    [honestli, say, sure, work, exercis, regim, da...\n",
      "205593                              [love, buy, act, usual]\n",
      "119359    [even, though, handicap, find, thing, incred, ...\n",
      "67176     [use, conjunct, disinfect, solut, kit, excel, ...\n",
      "                                ...                        \n",
      "78463     [past, pretti, bad, neck, short, overus, upper...\n",
      "218979    [bought, sinc, tri, follow, cleaner, stuff, wo...\n",
      "151611    [bought, product, yeast, mainten, howev, produ...\n",
      "326787    [benign, skin, scalp, made, wash, comb, hair, ...\n",
      "123031    [work, well, leav, mine, bedtim, highli, fast,...\n",
      "156729    [pick, system, test, alway, spend, smaller, am...\n",
      "92998     [got, local, pharmaci, tri, week, constantli, ...\n",
      "141109    [wife, head, came, across, like, ideal, gift, ...\n",
      "126690    [mean, ye, mint, tasti, ye, chocol, tasti, pro...\n",
      "330666    [discov, like, mani, becom, cave, either, real...\n",
      "292100    [go, green, organ, hous, partli, health, air, ...\n",
      "233570    [funni, write, review, anoth, booster, bad, ex...\n",
      "208681    [teeth, squeaki, clean, done, brush, use, use,...\n",
      "247119       [mani, best, one, found, far, perfect, follow]\n",
      "293680    [use, number, concentr, liquid, laundri, someo...\n",
      "13077     [saw, badli, offer, real, review, sure, natur,...\n",
      "342985    [chose, product, review, vine, frankli, tri, o...\n",
      "47144     [might, day, person, wear, product, side, abso...\n",
      "71645     [cheap, safeti, razor, salli, curiou, qualiti,...\n",
      "152995    [usual, use, regular, enzymat, therapi, time, ...\n",
      "249687    [new, bedroom, skylight, right, bed, although,...\n",
      "329976    [use, polar, heart, rate, monitor, love, clear...\n",
      "89832     [main, brand, allergi, medicin, wife, realli, ...\n",
      "140760    [order, wife, work, well, protect, cloth, grea...\n",
      "41619     [anoth, take, simpli, love, incorpor, onto, ro...\n",
      "79851     [buy, lot, drug, son, type, diabet, recent, ho...\n",
      "312717    [new, year, goal, drop, live, easi, theori, re...\n",
      "343644    [current, product, tri, product, around, post,...\n",
      "68691     [wonder, fragranc, use, make, clean, hous, cle...\n",
      "20735     [seen, take, two, warn, hors, pill, hard, time...\n",
      "Name: reviewText, Length: 103906, dtype: object\n"
     ]
    }
   ],
   "source": [
    "# convert text to lower case \n",
    "reviews = df_reviews[\"reviewText\"].str.lower()\n",
    "\n",
    "# remove numbers\n",
    "reviews = reviews.replace(\"\\d+\", '')\n",
    "\n",
    "# words Tokenization\n",
    "reviews = reviews.apply(word_tokenize)\n",
    "\n",
    "# remove non-English words\n",
    "engwords = set(nltk.corpus.words.words())\n",
    "reviews = reviews.apply(lambda x: [w for w in x if w in engwords])\n",
    "\n",
    "# remove punctuation\n",
    "punctuations = list(string.punctuation)\n",
    "reviews = reviews.apply(lambda x: \n",
    "            [i.strip(\"\".join(punctuations)) for i in x if i not in punctuations])\n",
    "\n",
    "# handle negations\n",
    "def handleNegations (text):\n",
    "    for i in range(len(text)-1):\n",
    "        if text[i] == \"not\":\n",
    "            text[i] == \"\"\n",
    "            text[i+1] ==\"not_\"+text[i+1]\n",
    "        elif \"n't\" in text[i]:\n",
    "            text[i] = text[i].replace(\"n't\", \"\")\n",
    "            text[i+1] = \"not_\"+text[i+1]\n",
    "        else: continue\n",
    "    return text\n",
    "\n",
    "reviews = reviews.apply(handleNegations)\n",
    "\n",
    "# remove stop words \n",
    "stop_words=set(stopwords.words(\"english\"))\n",
    "reviews = reviews.apply(lambda x: [item for item in x if item not in stop_words])\n",
    "\n",
    "# stem words \n",
    "porter_stemmer = PorterStemmer()\n",
    "stemmed_reviews = reviews.apply(lambda x: [porter_stemmer.stem(y) for y in x])\n",
    "\n",
    "print(stemmed_reviews)"
   ]
  },
  {
   "cell_type": "markdown",
   "metadata": {},
   "source": [
    "### Bag of Words "
   ]
  },
  {
   "cell_type": "code",
   "execution_count": 5,
   "metadata": {
    "ExecuteTime": {
     "end_time": "2020-05-20T18:28:22.081520Z",
     "start_time": "2020-05-20T18:28:20.365889Z"
    }
   },
   "outputs": [],
   "source": [
    "stemwords = stemmed_reviews.copy()\n",
    "stemwords = stemwords.apply(lambda x: ','.join(x))"
   ]
  },
  {
   "cell_type": "code",
   "execution_count": 6,
   "metadata": {
    "ExecuteTime": {
     "end_time": "2020-05-20T04:06:52.985875Z",
     "start_time": "2020-05-20T04:06:52.948816Z"
    }
   },
   "outputs": [],
   "source": [
    "def topN_dict(corpus, n=None):\n",
    "    count_vec = CountVectorizer()\n",
    "    texts = count_vec.fit_transform(corpus)\n",
    "    sum_words = texts.sum(axis=0)\n",
    "    freqs = [[word, sum_words[0, idx]] for word, idx in count_vec.vocabulary_.items()]\n",
    "    words_sorted_freq = sorted(freqs, key = lambda x: x[1], reverse=True)\n",
    "    return words_sorted_freq[:n]"
   ]
  },
  {
   "cell_type": "code",
   "execution_count": 7,
   "metadata": {
    "ExecuteTime": {
     "end_time": "2020-05-20T04:07:05.844168Z",
     "start_time": "2020-05-20T04:06:54.132924Z"
    }
   },
   "outputs": [],
   "source": [
    "top_text = topN_dict(stemwords, 500)\n",
    "\n",
    "word_vec = list()\n",
    "for key, value in top_text:\n",
    "    word_vec.append(key)"
   ]
  },
  {
   "cell_type": "code",
   "execution_count": 8,
   "metadata": {
    "ExecuteTime": {
     "end_time": "2020-05-20T04:24:14.004527Z",
     "start_time": "2020-05-20T04:07:26.640865Z"
    }
   },
   "outputs": [],
   "source": [
    "doc_matrix = []\n",
    "for doc in stemmed_reviews:\n",
    "    bag_vec = np.zeros(len(word_vec))\n",
    "    for w in doc:\n",
    "        for i, word in enumerate(word_vec):\n",
    "            if word == w:\n",
    "                bag_vec[i]+=1\n",
    "    doc_matrix.append(np.array(bag_vec))"
   ]
  },
  {
   "cell_type": "code",
   "execution_count": 9,
   "metadata": {
    "ExecuteTime": {
     "end_time": "2020-05-20T04:44:24.565785Z",
     "start_time": "2020-05-20T04:44:12.917185Z"
    },
    "scrolled": true
   },
   "outputs": [
    {
     "data": {
      "text/html": [
       "<div>\n",
       "<style scoped>\n",
       "    .dataframe tbody tr th:only-of-type {\n",
       "        vertical-align: middle;\n",
       "    }\n",
       "\n",
       "    .dataframe tbody tr th {\n",
       "        vertical-align: top;\n",
       "    }\n",
       "\n",
       "    .dataframe thead th {\n",
       "        text-align: right;\n",
       "    }\n",
       "</style>\n",
       "<table border=\"1\" class=\"dataframe\">\n",
       "  <thead>\n",
       "    <tr style=\"text-align: right;\">\n",
       "      <th></th>\n",
       "      <th>use</th>\n",
       "      <th>product</th>\n",
       "      <th>work</th>\n",
       "      <th>like</th>\n",
       "      <th>one</th>\n",
       "      <th>get</th>\n",
       "      <th>good</th>\n",
       "      <th>take</th>\n",
       "      <th>would</th>\n",
       "      <th>great</th>\n",
       "      <th>...</th>\n",
       "      <th>activ</th>\n",
       "      <th>essenti</th>\n",
       "      <th>thin</th>\n",
       "      <th>pick</th>\n",
       "      <th>follow</th>\n",
       "      <th>beard</th>\n",
       "      <th>adjust</th>\n",
       "      <th>exercis</th>\n",
       "      <th>monitor</th>\n",
       "      <th>eye</th>\n",
       "    </tr>\n",
       "  </thead>\n",
       "  <tbody>\n",
       "    <tr>\n",
       "      <th>0</th>\n",
       "      <td>0.0</td>\n",
       "      <td>0.0</td>\n",
       "      <td>0.0</td>\n",
       "      <td>0.0</td>\n",
       "      <td>0.0</td>\n",
       "      <td>0.0</td>\n",
       "      <td>0.0</td>\n",
       "      <td>0.0</td>\n",
       "      <td>0.0</td>\n",
       "      <td>0.0</td>\n",
       "      <td>...</td>\n",
       "      <td>0.0</td>\n",
       "      <td>0.0</td>\n",
       "      <td>0.0</td>\n",
       "      <td>0.0</td>\n",
       "      <td>0.0</td>\n",
       "      <td>0.0</td>\n",
       "      <td>0.0</td>\n",
       "      <td>0.0</td>\n",
       "      <td>0.0</td>\n",
       "      <td>0.0</td>\n",
       "    </tr>\n",
       "    <tr>\n",
       "      <th>1</th>\n",
       "      <td>2.0</td>\n",
       "      <td>1.0</td>\n",
       "      <td>1.0</td>\n",
       "      <td>0.0</td>\n",
       "      <td>0.0</td>\n",
       "      <td>0.0</td>\n",
       "      <td>0.0</td>\n",
       "      <td>0.0</td>\n",
       "      <td>0.0</td>\n",
       "      <td>1.0</td>\n",
       "      <td>...</td>\n",
       "      <td>0.0</td>\n",
       "      <td>0.0</td>\n",
       "      <td>0.0</td>\n",
       "      <td>0.0</td>\n",
       "      <td>0.0</td>\n",
       "      <td>0.0</td>\n",
       "      <td>0.0</td>\n",
       "      <td>0.0</td>\n",
       "      <td>0.0</td>\n",
       "      <td>0.0</td>\n",
       "    </tr>\n",
       "    <tr>\n",
       "      <th>2</th>\n",
       "      <td>0.0</td>\n",
       "      <td>0.0</td>\n",
       "      <td>0.0</td>\n",
       "      <td>0.0</td>\n",
       "      <td>0.0</td>\n",
       "      <td>0.0</td>\n",
       "      <td>0.0</td>\n",
       "      <td>1.0</td>\n",
       "      <td>0.0</td>\n",
       "      <td>0.0</td>\n",
       "      <td>...</td>\n",
       "      <td>0.0</td>\n",
       "      <td>0.0</td>\n",
       "      <td>0.0</td>\n",
       "      <td>0.0</td>\n",
       "      <td>0.0</td>\n",
       "      <td>0.0</td>\n",
       "      <td>0.0</td>\n",
       "      <td>0.0</td>\n",
       "      <td>0.0</td>\n",
       "      <td>0.0</td>\n",
       "    </tr>\n",
       "    <tr>\n",
       "      <th>3</th>\n",
       "      <td>0.0</td>\n",
       "      <td>0.0</td>\n",
       "      <td>1.0</td>\n",
       "      <td>0.0</td>\n",
       "      <td>1.0</td>\n",
       "      <td>1.0</td>\n",
       "      <td>0.0</td>\n",
       "      <td>0.0</td>\n",
       "      <td>0.0</td>\n",
       "      <td>0.0</td>\n",
       "      <td>...</td>\n",
       "      <td>0.0</td>\n",
       "      <td>0.0</td>\n",
       "      <td>0.0</td>\n",
       "      <td>0.0</td>\n",
       "      <td>0.0</td>\n",
       "      <td>0.0</td>\n",
       "      <td>0.0</td>\n",
       "      <td>0.0</td>\n",
       "      <td>0.0</td>\n",
       "      <td>0.0</td>\n",
       "    </tr>\n",
       "    <tr>\n",
       "      <th>4</th>\n",
       "      <td>0.0</td>\n",
       "      <td>0.0</td>\n",
       "      <td>0.0</td>\n",
       "      <td>1.0</td>\n",
       "      <td>0.0</td>\n",
       "      <td>0.0</td>\n",
       "      <td>0.0</td>\n",
       "      <td>0.0</td>\n",
       "      <td>0.0</td>\n",
       "      <td>2.0</td>\n",
       "      <td>...</td>\n",
       "      <td>0.0</td>\n",
       "      <td>0.0</td>\n",
       "      <td>0.0</td>\n",
       "      <td>0.0</td>\n",
       "      <td>0.0</td>\n",
       "      <td>0.0</td>\n",
       "      <td>0.0</td>\n",
       "      <td>0.0</td>\n",
       "      <td>0.0</td>\n",
       "      <td>0.0</td>\n",
       "    </tr>\n",
       "  </tbody>\n",
       "</table>\n",
       "<p>5 rows × 500 columns</p>\n",
       "</div>"
      ],
      "text/plain": [
       "   use  product  work  like  one  get  good  take  would  great  ...  activ  \\\n",
       "0  0.0      0.0   0.0   0.0  0.0  0.0   0.0   0.0    0.0    0.0  ...    0.0   \n",
       "1  2.0      1.0   1.0   0.0  0.0  0.0   0.0   0.0    0.0    1.0  ...    0.0   \n",
       "2  0.0      0.0   0.0   0.0  0.0  0.0   0.0   1.0    0.0    0.0  ...    0.0   \n",
       "3  0.0      0.0   1.0   0.0  1.0  1.0   0.0   0.0    0.0    0.0  ...    0.0   \n",
       "4  0.0      0.0   0.0   1.0  0.0  0.0   0.0   0.0    0.0    2.0  ...    0.0   \n",
       "\n",
       "   essenti  thin  pick  follow  beard  adjust  exercis  monitor  eye  \n",
       "0      0.0   0.0   0.0     0.0    0.0     0.0      0.0      0.0  0.0  \n",
       "1      0.0   0.0   0.0     0.0    0.0     0.0      0.0      0.0  0.0  \n",
       "2      0.0   0.0   0.0     0.0    0.0     0.0      0.0      0.0  0.0  \n",
       "3      0.0   0.0   0.0     0.0    0.0     0.0      0.0      0.0  0.0  \n",
       "4      0.0   0.0   0.0     0.0    0.0     0.0      0.0      0.0  0.0  \n",
       "\n",
       "[5 rows x 500 columns]"
      ]
     },
     "execution_count": 9,
     "metadata": {},
     "output_type": "execute_result"
    }
   ],
   "source": [
    "# results could be used in model building \n",
    "df_bow = pd.DataFrame(np.row_stack(doc_matrix), columns=word_vec)\n",
    "df_bow.head()"
   ]
  },
  {
   "cell_type": "code",
   "execution_count": 10,
   "metadata": {},
   "outputs": [
    {
     "data": {
      "text/plain": [
       "(103906, 500)"
      ]
     },
     "execution_count": 10,
     "metadata": {},
     "output_type": "execute_result"
    }
   ],
   "source": [
    "df_bow.shape"
   ]
  },
  {
   "cell_type": "markdown",
   "metadata": {},
   "source": [
    "### TF-IDF "
   ]
  },
  {
   "cell_type": "code",
   "execution_count": 11,
   "metadata": {
    "ExecuteTime": {
     "end_time": "2020-05-20T18:28:38.355180Z",
     "start_time": "2020-05-20T18:28:26.288080Z"
    }
   },
   "outputs": [
    {
     "data": {
      "text/plain": [
       "<103906x15933 sparse matrix of type '<class 'numpy.float64'>'\n",
       "\twith 3067316 stored elements in Compressed Sparse Row format>"
      ]
     },
     "execution_count": 11,
     "metadata": {},
     "output_type": "execute_result"
    }
   ],
   "source": [
    "vectorizer=TfidfVectorizer(use_idf=True)\n",
    "features=vectorizer.fit_transform(stemwords)\n",
    "features"
   ]
  },
  {
   "cell_type": "code",
   "execution_count": 12,
   "metadata": {
    "ExecuteTime": {
     "end_time": "2020-05-20T18:31:06.400092Z",
     "start_time": "2020-05-20T18:30:46.125422Z"
    }
   },
   "outputs": [
    {
     "data": {
      "text/html": [
       "<div>\n",
       "<style scoped>\n",
       "    .dataframe tbody tr th:only-of-type {\n",
       "        vertical-align: middle;\n",
       "    }\n",
       "\n",
       "    .dataframe tbody tr th {\n",
       "        vertical-align: top;\n",
       "    }\n",
       "\n",
       "    .dataframe thead th {\n",
       "        text-align: right;\n",
       "    }\n",
       "</style>\n",
       "<table border=\"1\" class=\"dataframe\">\n",
       "  <thead>\n",
       "    <tr style=\"text-align: right;\">\n",
       "      <th></th>\n",
       "      <th>aa</th>\n",
       "      <th>aba</th>\n",
       "      <th>aback</th>\n",
       "      <th>abandon</th>\n",
       "      <th>abat</th>\n",
       "      <th>abb</th>\n",
       "      <th>abbot</th>\n",
       "      <th>abbrevi</th>\n",
       "      <th>abdomen</th>\n",
       "      <th>abdomin</th>\n",
       "      <th>...</th>\n",
       "      <th>zippi</th>\n",
       "      <th>zircon</th>\n",
       "      <th>zirconium</th>\n",
       "      <th>zoic</th>\n",
       "      <th>zombi</th>\n",
       "      <th>zone</th>\n",
       "      <th>zoo</th>\n",
       "      <th>zoom</th>\n",
       "      <th>zoonot</th>\n",
       "      <th>zucchini</th>\n",
       "    </tr>\n",
       "  </thead>\n",
       "  <tbody>\n",
       "    <tr>\n",
       "      <th>0</th>\n",
       "      <td>0.0</td>\n",
       "      <td>0.0</td>\n",
       "      <td>0.0</td>\n",
       "      <td>0.0</td>\n",
       "      <td>0.0</td>\n",
       "      <td>0.0</td>\n",
       "      <td>0.0</td>\n",
       "      <td>0.0</td>\n",
       "      <td>0.0</td>\n",
       "      <td>0.0</td>\n",
       "      <td>...</td>\n",
       "      <td>0.0</td>\n",
       "      <td>0.0</td>\n",
       "      <td>0.0</td>\n",
       "      <td>0.0</td>\n",
       "      <td>0.0</td>\n",
       "      <td>0.0</td>\n",
       "      <td>0.0</td>\n",
       "      <td>0.0</td>\n",
       "      <td>0.0</td>\n",
       "      <td>0.0</td>\n",
       "    </tr>\n",
       "    <tr>\n",
       "      <th>1</th>\n",
       "      <td>0.0</td>\n",
       "      <td>0.0</td>\n",
       "      <td>0.0</td>\n",
       "      <td>0.0</td>\n",
       "      <td>0.0</td>\n",
       "      <td>0.0</td>\n",
       "      <td>0.0</td>\n",
       "      <td>0.0</td>\n",
       "      <td>0.0</td>\n",
       "      <td>0.0</td>\n",
       "      <td>...</td>\n",
       "      <td>0.0</td>\n",
       "      <td>0.0</td>\n",
       "      <td>0.0</td>\n",
       "      <td>0.0</td>\n",
       "      <td>0.0</td>\n",
       "      <td>0.0</td>\n",
       "      <td>0.0</td>\n",
       "      <td>0.0</td>\n",
       "      <td>0.0</td>\n",
       "      <td>0.0</td>\n",
       "    </tr>\n",
       "    <tr>\n",
       "      <th>2</th>\n",
       "      <td>0.0</td>\n",
       "      <td>0.0</td>\n",
       "      <td>0.0</td>\n",
       "      <td>0.0</td>\n",
       "      <td>0.0</td>\n",
       "      <td>0.0</td>\n",
       "      <td>0.0</td>\n",
       "      <td>0.0</td>\n",
       "      <td>0.0</td>\n",
       "      <td>0.0</td>\n",
       "      <td>...</td>\n",
       "      <td>0.0</td>\n",
       "      <td>0.0</td>\n",
       "      <td>0.0</td>\n",
       "      <td>0.0</td>\n",
       "      <td>0.0</td>\n",
       "      <td>0.0</td>\n",
       "      <td>0.0</td>\n",
       "      <td>0.0</td>\n",
       "      <td>0.0</td>\n",
       "      <td>0.0</td>\n",
       "    </tr>\n",
       "    <tr>\n",
       "      <th>3</th>\n",
       "      <td>0.0</td>\n",
       "      <td>0.0</td>\n",
       "      <td>0.0</td>\n",
       "      <td>0.0</td>\n",
       "      <td>0.0</td>\n",
       "      <td>0.0</td>\n",
       "      <td>0.0</td>\n",
       "      <td>0.0</td>\n",
       "      <td>0.0</td>\n",
       "      <td>0.0</td>\n",
       "      <td>...</td>\n",
       "      <td>0.0</td>\n",
       "      <td>0.0</td>\n",
       "      <td>0.0</td>\n",
       "      <td>0.0</td>\n",
       "      <td>0.0</td>\n",
       "      <td>0.0</td>\n",
       "      <td>0.0</td>\n",
       "      <td>0.0</td>\n",
       "      <td>0.0</td>\n",
       "      <td>0.0</td>\n",
       "    </tr>\n",
       "    <tr>\n",
       "      <th>4</th>\n",
       "      <td>0.0</td>\n",
       "      <td>0.0</td>\n",
       "      <td>0.0</td>\n",
       "      <td>0.0</td>\n",
       "      <td>0.0</td>\n",
       "      <td>0.0</td>\n",
       "      <td>0.0</td>\n",
       "      <td>0.0</td>\n",
       "      <td>0.0</td>\n",
       "      <td>0.0</td>\n",
       "      <td>...</td>\n",
       "      <td>0.0</td>\n",
       "      <td>0.0</td>\n",
       "      <td>0.0</td>\n",
       "      <td>0.0</td>\n",
       "      <td>0.0</td>\n",
       "      <td>0.0</td>\n",
       "      <td>0.0</td>\n",
       "      <td>0.0</td>\n",
       "      <td>0.0</td>\n",
       "      <td>0.0</td>\n",
       "    </tr>\n",
       "  </tbody>\n",
       "</table>\n",
       "<p>5 rows × 15933 columns</p>\n",
       "</div>"
      ],
      "text/plain": [
       "    aa  aba  aback  abandon  abat  abb  abbot  abbrevi  abdomen  abdomin  ...  \\\n",
       "0  0.0  0.0    0.0      0.0   0.0  0.0    0.0      0.0      0.0      0.0  ...   \n",
       "1  0.0  0.0    0.0      0.0   0.0  0.0    0.0      0.0      0.0      0.0  ...   \n",
       "2  0.0  0.0    0.0      0.0   0.0  0.0    0.0      0.0      0.0      0.0  ...   \n",
       "3  0.0  0.0    0.0      0.0   0.0  0.0    0.0      0.0      0.0      0.0  ...   \n",
       "4  0.0  0.0    0.0      0.0   0.0  0.0    0.0      0.0      0.0      0.0  ...   \n",
       "\n",
       "   zippi  zircon  zirconium  zoic  zombi  zone  zoo  zoom  zoonot  zucchini  \n",
       "0    0.0     0.0        0.0   0.0    0.0   0.0  0.0   0.0     0.0       0.0  \n",
       "1    0.0     0.0        0.0   0.0    0.0   0.0  0.0   0.0     0.0       0.0  \n",
       "2    0.0     0.0        0.0   0.0    0.0   0.0  0.0   0.0     0.0       0.0  \n",
       "3    0.0     0.0        0.0   0.0    0.0   0.0  0.0   0.0     0.0       0.0  \n",
       "4    0.0     0.0        0.0   0.0    0.0   0.0  0.0   0.0     0.0       0.0  \n",
       "\n",
       "[5 rows x 15933 columns]"
      ]
     },
     "execution_count": 12,
     "metadata": {},
     "output_type": "execute_result"
    }
   ],
   "source": [
    "# results could be used in model building \n",
    "df_tfidf_features = pd.DataFrame(features.todense(), columns=vectorizer.get_feature_names())\n",
    "df_tfidf_features.head()"
   ]
  },
  {
   "cell_type": "markdown",
   "metadata": {},
   "source": [
    "### n-Grams - bigrams"
   ]
  },
  {
   "cell_type": "code",
   "execution_count": 13,
   "metadata": {
    "ExecuteTime": {
     "end_time": "2020-05-20T19:44:10.601522Z",
     "start_time": "2020-05-20T19:44:10.590997Z"
    }
   },
   "outputs": [],
   "source": [
    "# create bi-grams\n",
    "def topN_bigram_dict(corpus, n=None):\n",
    "    count_vec = CountVectorizer(analyzer='word', ngram_range=(1, 2), stop_words='english')\n",
    "    gram_vec = count_vec.fit_transform(corpus)\n",
    "    sum_words = gram_vec.sum(axis=0)\n",
    "    freqs = [[word, sum_words[0, idx]] for word, idx in count_vec.vocabulary_.items()]\n",
    "    words_sorted_freq = sorted(freqs, key = lambda x: x[1], reverse=True)\n",
    "    return words_sorted_freq[:n]"
   ]
  },
  {
   "cell_type": "code",
   "execution_count": 14,
   "metadata": {
    "ExecuteTime": {
     "end_time": "2020-05-20T19:45:07.682829Z",
     "start_time": "2020-05-20T19:44:15.216961Z"
    }
   },
   "outputs": [],
   "source": [
    "top_bigrams = topN_bigram_dict(stemwords, 500)\n",
    "\n",
    "bigram_vec = list()\n",
    "for key, value in top_bigrams:\n",
    "    bigram_vec.append(key)"
   ]
  },
  {
   "cell_type": "code",
   "execution_count": 15,
   "metadata": {
    "ExecuteTime": {
     "end_time": "2020-05-20T19:58:06.704492Z",
     "start_time": "2020-05-20T19:45:13.133745Z"
    }
   },
   "outputs": [],
   "source": [
    "doc_bigram_matrix = []\n",
    "for doc in stemmed_reviews:\n",
    "    bag_vec = np.zeros(len(bigram_vec))\n",
    "    for w in doc:\n",
    "        for i, word in enumerate(bigram_vec):\n",
    "            if word == w:\n",
    "                bag_vec[i]+=1\n",
    "    doc_bigram_matrix.append(np.array(bag_vec))"
   ]
  },
  {
   "cell_type": "code",
   "execution_count": 16,
   "metadata": {
    "ExecuteTime": {
     "end_time": "2020-05-20T20:07:35.229952Z",
     "start_time": "2020-05-20T20:07:32.829509Z"
    }
   },
   "outputs": [
    {
     "data": {
      "text/html": [
       "<div>\n",
       "<style scoped>\n",
       "    .dataframe tbody tr th:only-of-type {\n",
       "        vertical-align: middle;\n",
       "    }\n",
       "\n",
       "    .dataframe tbody tr th {\n",
       "        vertical-align: top;\n",
       "    }\n",
       "\n",
       "    .dataframe thead th {\n",
       "        text-align: right;\n",
       "    }\n",
       "</style>\n",
       "<table border=\"1\" class=\"dataframe\">\n",
       "  <thead>\n",
       "    <tr style=\"text-align: right;\">\n",
       "      <th></th>\n",
       "      <th>use</th>\n",
       "      <th>product</th>\n",
       "      <th>work</th>\n",
       "      <th>like</th>\n",
       "      <th>good</th>\n",
       "      <th>great</th>\n",
       "      <th>time</th>\n",
       "      <th>tri</th>\n",
       "      <th>day</th>\n",
       "      <th>realli</th>\n",
       "      <th>...</th>\n",
       "      <th>capsul</th>\n",
       "      <th>meal</th>\n",
       "      <th>blue</th>\n",
       "      <th>stain</th>\n",
       "      <th>aid</th>\n",
       "      <th>walk</th>\n",
       "      <th>mop</th>\n",
       "      <th>tight</th>\n",
       "      <th>serv</th>\n",
       "      <th>dog</th>\n",
       "    </tr>\n",
       "  </thead>\n",
       "  <tbody>\n",
       "    <tr>\n",
       "      <th>0</th>\n",
       "      <td>0.0</td>\n",
       "      <td>0.0</td>\n",
       "      <td>0.0</td>\n",
       "      <td>0.0</td>\n",
       "      <td>0.0</td>\n",
       "      <td>0.0</td>\n",
       "      <td>0.0</td>\n",
       "      <td>0.0</td>\n",
       "      <td>0.0</td>\n",
       "      <td>0.0</td>\n",
       "      <td>...</td>\n",
       "      <td>0.0</td>\n",
       "      <td>0.0</td>\n",
       "      <td>0.0</td>\n",
       "      <td>0.0</td>\n",
       "      <td>0.0</td>\n",
       "      <td>0.0</td>\n",
       "      <td>0.0</td>\n",
       "      <td>1.0</td>\n",
       "      <td>0.0</td>\n",
       "      <td>0.0</td>\n",
       "    </tr>\n",
       "    <tr>\n",
       "      <th>1</th>\n",
       "      <td>2.0</td>\n",
       "      <td>1.0</td>\n",
       "      <td>1.0</td>\n",
       "      <td>0.0</td>\n",
       "      <td>0.0</td>\n",
       "      <td>1.0</td>\n",
       "      <td>0.0</td>\n",
       "      <td>0.0</td>\n",
       "      <td>0.0</td>\n",
       "      <td>0.0</td>\n",
       "      <td>...</td>\n",
       "      <td>0.0</td>\n",
       "      <td>0.0</td>\n",
       "      <td>0.0</td>\n",
       "      <td>0.0</td>\n",
       "      <td>0.0</td>\n",
       "      <td>0.0</td>\n",
       "      <td>0.0</td>\n",
       "      <td>0.0</td>\n",
       "      <td>0.0</td>\n",
       "      <td>0.0</td>\n",
       "    </tr>\n",
       "    <tr>\n",
       "      <th>2</th>\n",
       "      <td>0.0</td>\n",
       "      <td>0.0</td>\n",
       "      <td>0.0</td>\n",
       "      <td>0.0</td>\n",
       "      <td>0.0</td>\n",
       "      <td>0.0</td>\n",
       "      <td>0.0</td>\n",
       "      <td>0.0</td>\n",
       "      <td>0.0</td>\n",
       "      <td>0.0</td>\n",
       "      <td>...</td>\n",
       "      <td>0.0</td>\n",
       "      <td>0.0</td>\n",
       "      <td>0.0</td>\n",
       "      <td>0.0</td>\n",
       "      <td>0.0</td>\n",
       "      <td>0.0</td>\n",
       "      <td>0.0</td>\n",
       "      <td>0.0</td>\n",
       "      <td>0.0</td>\n",
       "      <td>0.0</td>\n",
       "    </tr>\n",
       "    <tr>\n",
       "      <th>3</th>\n",
       "      <td>0.0</td>\n",
       "      <td>0.0</td>\n",
       "      <td>1.0</td>\n",
       "      <td>0.0</td>\n",
       "      <td>0.0</td>\n",
       "      <td>0.0</td>\n",
       "      <td>0.0</td>\n",
       "      <td>1.0</td>\n",
       "      <td>0.0</td>\n",
       "      <td>2.0</td>\n",
       "      <td>...</td>\n",
       "      <td>0.0</td>\n",
       "      <td>0.0</td>\n",
       "      <td>0.0</td>\n",
       "      <td>0.0</td>\n",
       "      <td>0.0</td>\n",
       "      <td>0.0</td>\n",
       "      <td>0.0</td>\n",
       "      <td>0.0</td>\n",
       "      <td>0.0</td>\n",
       "      <td>0.0</td>\n",
       "    </tr>\n",
       "    <tr>\n",
       "      <th>4</th>\n",
       "      <td>0.0</td>\n",
       "      <td>0.0</td>\n",
       "      <td>0.0</td>\n",
       "      <td>1.0</td>\n",
       "      <td>0.0</td>\n",
       "      <td>2.0</td>\n",
       "      <td>1.0</td>\n",
       "      <td>0.0</td>\n",
       "      <td>0.0</td>\n",
       "      <td>0.0</td>\n",
       "      <td>...</td>\n",
       "      <td>0.0</td>\n",
       "      <td>0.0</td>\n",
       "      <td>0.0</td>\n",
       "      <td>0.0</td>\n",
       "      <td>0.0</td>\n",
       "      <td>0.0</td>\n",
       "      <td>0.0</td>\n",
       "      <td>0.0</td>\n",
       "      <td>0.0</td>\n",
       "      <td>0.0</td>\n",
       "    </tr>\n",
       "  </tbody>\n",
       "</table>\n",
       "<p>5 rows × 500 columns</p>\n",
       "</div>"
      ],
      "text/plain": [
       "   use  product  work  like  good  great  time  tri  day  realli  ...  capsul  \\\n",
       "0  0.0      0.0   0.0   0.0   0.0    0.0   0.0  0.0  0.0     0.0  ...     0.0   \n",
       "1  2.0      1.0   1.0   0.0   0.0    1.0   0.0  0.0  0.0     0.0  ...     0.0   \n",
       "2  0.0      0.0   0.0   0.0   0.0    0.0   0.0  0.0  0.0     0.0  ...     0.0   \n",
       "3  0.0      0.0   1.0   0.0   0.0    0.0   0.0  1.0  0.0     2.0  ...     0.0   \n",
       "4  0.0      0.0   0.0   1.0   0.0    2.0   1.0  0.0  0.0     0.0  ...     0.0   \n",
       "\n",
       "   meal  blue  stain  aid  walk  mop  tight  serv  dog  \n",
       "0   0.0   0.0    0.0  0.0   0.0  0.0    1.0   0.0  0.0  \n",
       "1   0.0   0.0    0.0  0.0   0.0  0.0    0.0   0.0  0.0  \n",
       "2   0.0   0.0    0.0  0.0   0.0  0.0    0.0   0.0  0.0  \n",
       "3   0.0   0.0    0.0  0.0   0.0  0.0    0.0   0.0  0.0  \n",
       "4   0.0   0.0    0.0  0.0   0.0  0.0    0.0   0.0  0.0  \n",
       "\n",
       "[5 rows x 500 columns]"
      ]
     },
     "execution_count": 16,
     "metadata": {},
     "output_type": "execute_result"
    }
   ],
   "source": [
    "# results could be used in model building \n",
    "df_bigram = pd.DataFrame(np.row_stack(doc_bigram_matrix), columns=bigram_vec)\n",
    "df_bigram.head()"
   ]
  },
  {
   "cell_type": "code",
   "execution_count": 17,
   "metadata": {},
   "outputs": [
    {
     "data": {
      "text/plain": [
       "(103906, 500)"
      ]
     },
     "execution_count": 17,
     "metadata": {},
     "output_type": "execute_result"
    }
   ],
   "source": [
    "df_bigram.shape"
   ]
  },
  {
   "cell_type": "markdown",
   "metadata": {},
   "source": [
    "# Sentiment Analysis predictive models "
   ]
  },
  {
   "cell_type": "code",
   "execution_count": 18,
   "metadata": {},
   "outputs": [],
   "source": [
    "# define a function to draw ROC curve\n",
    "def draw_roc_auc(y_test, X_test, method):\n",
    "    logit_roc_auc = roc_auc_score(y_test, method.predict(X_test))\n",
    "    fpr, tpr, thresholds = roc_curve(y_test, method.predict_proba(X_test)[:,1])\n",
    "    plt.figure()\n",
    "    plt.plot(fpr, tpr, label='Logistic Regression (area = %0.2f)' % logit_roc_auc)\n",
    "    plt.plot([0, 1], [0, 1],'r--')\n",
    "    plt.xlim([0.0, 1.0])\n",
    "    plt.ylim([0.0, 1.05])\n",
    "    plt.xlabel('False Positive Rate')\n",
    "    plt.ylabel('True Positive Rate')\n",
    "    plt.legend(loc=\"lower right\")\n",
    "    plt.savefig('Log_ROC')\n",
    "    plt.show()"
   ]
  },
  {
   "cell_type": "markdown",
   "metadata": {},
   "source": [
    "### Bag of words"
   ]
  },
  {
   "cell_type": "code",
   "execution_count": 19,
   "metadata": {},
   "outputs": [],
   "source": [
    "# set up sparse matrix\n",
    "bow_sparse = scipy.sparse.csr_matrix(df_bow.values)"
   ]
  },
  {
   "cell_type": "code",
   "execution_count": 20,
   "metadata": {},
   "outputs": [],
   "source": [
    "# set up x\n",
    "X = bow_sparse\n",
    "# set up y: =1 when overall rating >= 4\n",
    "y = df_reviews['overall'].apply(lambda x: 1 if x >= 4 else 0)\n",
    "\n",
    "#train test split\n",
    "X_train,X_test,y_train,y_test = train_test_split(X,y,test_size = 0.3,random_state = 28)"
   ]
  },
  {
   "cell_type": "markdown",
   "metadata": {},
   "source": [
    "##### Logistic Regression"
   ]
  },
  {
   "cell_type": "code",
   "execution_count": 21,
   "metadata": {},
   "outputs": [],
   "source": [
    "logreg = LogisticRegression()"
   ]
  },
  {
   "cell_type": "code",
   "execution_count": 22,
   "metadata": {},
   "outputs": [
    {
     "data": {
      "text/plain": [
       "LogisticRegression(C=1.0, class_weight=None, dual=False, fit_intercept=True,\n",
       "                   intercept_scaling=1, l1_ratio=None, max_iter=100,\n",
       "                   multi_class='warn', n_jobs=None, penalty='l2',\n",
       "                   random_state=None, solver='warn', tol=0.0001, verbose=0,\n",
       "                   warm_start=False)"
      ]
     },
     "execution_count": 22,
     "metadata": {},
     "output_type": "execute_result"
    }
   ],
   "source": [
    "# fit the model with data\n",
    "logreg.fit(X_train,y_train)"
   ]
  },
  {
   "cell_type": "code",
   "execution_count": 23,
   "metadata": {},
   "outputs": [
    {
     "name": "stdout",
     "output_type": "stream",
     "text": [
      "Accuracy of logistic regression classifier on test set: 0.83\n"
     ]
    }
   ],
   "source": [
    "# predict using test data\n",
    "preds_LR=logreg.predict(X_test)\n",
    "print('Accuracy of logistic regression classifier on test set: {:.2f}'.format(logreg.score(X_test, y_test)))"
   ]
  },
  {
   "cell_type": "code",
   "execution_count": 24,
   "metadata": {},
   "outputs": [
    {
     "data": {
      "text/html": [
       "<div>\n",
       "<style scoped>\n",
       "    .dataframe tbody tr th:only-of-type {\n",
       "        vertical-align: middle;\n",
       "    }\n",
       "\n",
       "    .dataframe tbody tr th {\n",
       "        vertical-align: top;\n",
       "    }\n",
       "\n",
       "    .dataframe thead th {\n",
       "        text-align: right;\n",
       "    }\n",
       "</style>\n",
       "<table border=\"1\" class=\"dataframe\">\n",
       "  <thead>\n",
       "    <tr style=\"text-align: right;\">\n",
       "      <th>Predicted Result</th>\n",
       "      <th>0</th>\n",
       "      <th>1</th>\n",
       "    </tr>\n",
       "    <tr>\n",
       "      <th>Actual Result</th>\n",
       "      <th></th>\n",
       "      <th></th>\n",
       "    </tr>\n",
       "  </thead>\n",
       "  <tbody>\n",
       "    <tr>\n",
       "      <th>0</th>\n",
       "      <td>1444</td>\n",
       "      <td>4573</td>\n",
       "    </tr>\n",
       "    <tr>\n",
       "      <th>1</th>\n",
       "      <td>787</td>\n",
       "      <td>24368</td>\n",
       "    </tr>\n",
       "  </tbody>\n",
       "</table>\n",
       "</div>"
      ],
      "text/plain": [
       "Predicted Result     0      1\n",
       "Actual Result                \n",
       "0                 1444   4573\n",
       "1                  787  24368"
      ]
     },
     "execution_count": 24,
     "metadata": {},
     "output_type": "execute_result"
    }
   ],
   "source": [
    "# Check the Accuracy of the Model\n",
    "cm_LR=pd.crosstab(y_test, preds_LR, rownames=['Actual Result'], colnames=['Predicted Result'])\n",
    "cm_LR"
   ]
  },
  {
   "cell_type": "code",
   "execution_count": 25,
   "metadata": {},
   "outputs": [
    {
     "name": "stdout",
     "output_type": "stream",
     "text": [
      "0.9687139733651362 0.8419888739158978\n",
      "F-score of Logistic Regression: 0.90\n"
     ]
    }
   ],
   "source": [
    "# recall and precision\n",
    "recall_LR= cm_LR.iloc[1,1]/(cm_LR.iloc[1,1]+cm_LR.iloc[1,0])\n",
    "precision_LR=cm_LR.iloc[1,1]/(cm_LR.iloc[1,1]+cm_LR.iloc[0,1])\n",
    "print(recall_LR,precision_LR)\n",
    "F_Score_LR = (2 * recall_LR * precision_LR) / (recall_LR + precision_LR)\n",
    "print('F-score of Logistic Regression: %.2f' % F_Score_LR)"
   ]
  },
  {
   "cell_type": "code",
   "execution_count": 26,
   "metadata": {},
   "outputs": [
    {
     "data": {
      "image/png": "[encoded data removed]",
      "text/plain": [
       "<Figure size 432x288 with 1 Axes>"
      ]
     },
     "metadata": {
      "needs_background": "light"
     },
     "output_type": "display_data"
    }
   ],
   "source": [
    "# ROC curve\n",
    "draw_roc_auc(y_test, X_test, logreg)"
   ]
  },
  {
   "cell_type": "markdown",
   "metadata": {},
   "source": [
    "##### Decision Tree"
   ]
  },
  {
   "cell_type": "code",
   "execution_count": 27,
   "metadata": {},
   "outputs": [],
   "source": [
    "clf_DT = DecisionTreeClassifier()"
   ]
  },
  {
   "cell_type": "code",
   "execution_count": 28,
   "metadata": {},
   "outputs": [
    {
     "data": {
      "text/plain": [
       "DecisionTreeClassifier(class_weight=None, criterion='gini', max_depth=None,\n",
       "                       max_features=None, max_leaf_nodes=None,\n",
       "                       min_impurity_decrease=0.0, min_impurity_split=None,\n",
       "                       min_samples_leaf=1, min_samples_split=2,\n",
       "                       min_weight_fraction_leaf=0.0, presort=False,\n",
       "                       random_state=None, splitter='best')"
      ]
     },
     "execution_count": 28,
     "metadata": {},
     "output_type": "execute_result"
    }
   ],
   "source": [
    "clf_DT.fit(X_train,y_train)"
   ]
  },
  {
   "cell_type": "code",
   "execution_count": 29,
   "metadata": {},
   "outputs": [
    {
     "name": "stdout",
     "output_type": "stream",
     "text": [
      "Accuracy of decision tree on test set: 0.75\n"
     ]
    }
   ],
   "source": [
    "# predict using test data\n",
    "preds_DT = clf_DT.predict(X_test)\n",
    "print('Accuracy of decision tree on test set: {:.2f}'.format(clf_DT.score(X_test, y_test)))"
   ]
  },
  {
   "cell_type": "code",
   "execution_count": 30,
   "metadata": {},
   "outputs": [
    {
     "data": {
      "text/html": [
       "<div>\n",
       "<style scoped>\n",
       "    .dataframe tbody tr th:only-of-type {\n",
       "        vertical-align: middle;\n",
       "    }\n",
       "\n",
       "    .dataframe tbody tr th {\n",
       "        vertical-align: top;\n",
       "    }\n",
       "\n",
       "    .dataframe thead th {\n",
       "        text-align: right;\n",
       "    }\n",
       "</style>\n",
       "<table border=\"1\" class=\"dataframe\">\n",
       "  <thead>\n",
       "    <tr style=\"text-align: right;\">\n",
       "      <th>Predicted Result</th>\n",
       "      <th>0</th>\n",
       "      <th>1</th>\n",
       "    </tr>\n",
       "    <tr>\n",
       "      <th>Actual Result</th>\n",
       "      <th></th>\n",
       "      <th></th>\n",
       "    </tr>\n",
       "  </thead>\n",
       "  <tbody>\n",
       "    <tr>\n",
       "      <th>0</th>\n",
       "      <td>2169</td>\n",
       "      <td>3848</td>\n",
       "    </tr>\n",
       "    <tr>\n",
       "      <th>1</th>\n",
       "      <td>4046</td>\n",
       "      <td>21109</td>\n",
       "    </tr>\n",
       "  </tbody>\n",
       "</table>\n",
       "</div>"
      ],
      "text/plain": [
       "Predicted Result     0      1\n",
       "Actual Result                \n",
       "0                 2169   3848\n",
       "1                 4046  21109"
      ]
     },
     "execution_count": 30,
     "metadata": {},
     "output_type": "execute_result"
    }
   ],
   "source": [
    "# Check the Accuracy of the Model\n",
    "cm_DT=pd.crosstab(y_test, preds_DT, rownames=['Actual Result'], colnames=['Predicted Result'])\n",
    "cm_DT"
   ]
  },
  {
   "cell_type": "code",
   "execution_count": 31,
   "metadata": {},
   "outputs": [
    {
     "name": "stdout",
     "output_type": "stream",
     "text": [
      "0.8391572252037368 0.8458148014585086\n",
      "F-score of decision tree : 0.84\n"
     ]
    }
   ],
   "source": [
    "# recall and precision\n",
    "recall_DT= cm_DT.iloc[1,1]/(cm_DT.iloc[1,1]+cm_DT.iloc[1,0])\n",
    "precision_DT=cm_DT.iloc[1,1]/(cm_DT.iloc[1,1]+cm_DT.iloc[0,1])\n",
    "print(recall_DT,precision_DT)\n",
    "F_Score_DT = (2 * recall_DT * precision_DT) / (recall_DT + precision_DT)\n",
    "print('F-score of decision tree : %.2f' %F_Score_DT)"
   ]
  },
  {
   "cell_type": "code",
   "execution_count": 32,
   "metadata": {},
   "outputs": [
    {
     "data": {
      "image/png": "[encoded data removed]",
      "text/plain": [
       "<Figure size 432x288 with 1 Axes>"
      ]
     },
     "metadata": {
      "needs_background": "light"
     },
     "output_type": "display_data"
    }
   ],
   "source": [
    "# ROC curve\n",
    "draw_roc_auc(y_test, X_test, clf_DT)"
   ]
  },
  {
   "cell_type": "markdown",
   "metadata": {},
   "source": [
    "##### Random Forest"
   ]
  },
  {
   "cell_type": "code",
   "execution_count": 33,
   "metadata": {},
   "outputs": [],
   "source": [
    "clf_RF = RandomForestClassifier(n_jobs=2, random_state=0)"
   ]
  },
  {
   "cell_type": "code",
   "execution_count": 34,
   "metadata": {},
   "outputs": [
    {
     "data": {
      "text/plain": [
       "RandomForestClassifier(bootstrap=True, class_weight=None, criterion='gini',\n",
       "                       max_depth=None, max_features='auto', max_leaf_nodes=None,\n",
       "                       min_impurity_decrease=0.0, min_impurity_split=None,\n",
       "                       min_samples_leaf=1, min_samples_split=2,\n",
       "                       min_weight_fraction_leaf=0.0, n_estimators=10, n_jobs=2,\n",
       "                       oob_score=False, random_state=0, verbose=0,\n",
       "                       warm_start=False)"
      ]
     },
     "execution_count": 34,
     "metadata": {},
     "output_type": "execute_result"
    }
   ],
   "source": [
    "clf_RF.fit(X_train, y_train)"
   ]
  },
  {
   "cell_type": "code",
   "execution_count": 35,
   "metadata": {},
   "outputs": [
    {
     "name": "stdout",
     "output_type": "stream",
     "text": [
      "Accuracy of Random Forest on test set: 0.80\n"
     ]
    }
   ],
   "source": [
    "# predict using test data\n",
    "preds_RF = clf_RF.predict(X_test)\n",
    "print('Accuracy of Random Forest on test set: {:.2f}'.format(clf_RF.score(X_test, y_test)))"
   ]
  },
  {
   "cell_type": "code",
   "execution_count": 36,
   "metadata": {},
   "outputs": [
    {
     "data": {
      "text/html": [
       "<div>\n",
       "<style scoped>\n",
       "    .dataframe tbody tr th:only-of-type {\n",
       "        vertical-align: middle;\n",
       "    }\n",
       "\n",
       "    .dataframe tbody tr th {\n",
       "        vertical-align: top;\n",
       "    }\n",
       "\n",
       "    .dataframe thead th {\n",
       "        text-align: right;\n",
       "    }\n",
       "</style>\n",
       "<table border=\"1\" class=\"dataframe\">\n",
       "  <thead>\n",
       "    <tr style=\"text-align: right;\">\n",
       "      <th>Predicted Result</th>\n",
       "      <th>0</th>\n",
       "      <th>1</th>\n",
       "    </tr>\n",
       "    <tr>\n",
       "      <th>Actual Result</th>\n",
       "      <th></th>\n",
       "      <th></th>\n",
       "    </tr>\n",
       "  </thead>\n",
       "  <tbody>\n",
       "    <tr>\n",
       "      <th>0</th>\n",
       "      <td>1548</td>\n",
       "      <td>4469</td>\n",
       "    </tr>\n",
       "    <tr>\n",
       "      <th>1</th>\n",
       "      <td>1770</td>\n",
       "      <td>23385</td>\n",
       "    </tr>\n",
       "  </tbody>\n",
       "</table>\n",
       "</div>"
      ],
      "text/plain": [
       "Predicted Result     0      1\n",
       "Actual Result                \n",
       "0                 1548   4469\n",
       "1                 1770  23385"
      ]
     },
     "execution_count": 36,
     "metadata": {},
     "output_type": "execute_result"
    }
   ],
   "source": [
    "# Check the Accuracy of the Model\n",
    "cm_RF=pd.crosstab(y_test, preds_RF, rownames=['Actual Result'], colnames=['Predicted Result'])\n",
    "cm_RF"
   ]
  },
  {
   "cell_type": "code",
   "execution_count": 37,
   "metadata": {},
   "outputs": [
    {
     "name": "stdout",
     "output_type": "stream",
     "text": [
      "0.9296362552176506 0.8395562576290658\n",
      "F-score of Random Forest: 0.88\n"
     ]
    }
   ],
   "source": [
    "# recall and precision\n",
    "recall_RF= cm_RF.iloc[1,1]/(cm_RF.iloc[1,1]+cm_RF.iloc[1,0])\n",
    "precision_RF=cm_RF.iloc[1,1]/(cm_RF.iloc[1,1]+cm_RF.iloc[0,1])\n",
    "print(recall_RF,precision_RF)\n",
    "F_Score_RF = (2 * recall_RF * precision_RF) / (recall_RF + precision_RF)\n",
    "print('F-score of Random Forest: %.2f' %F_Score_RF)"
   ]
  },
  {
   "cell_type": "code",
   "execution_count": 38,
   "metadata": {},
   "outputs": [
    {
     "data": {
      "image/png": "[encoded data removed]",
      "text/plain": [
       "<Figure size 432x288 with 1 Axes>"
      ]
     },
     "metadata": {
      "needs_background": "light"
     },
     "output_type": "display_data"
    }
   ],
   "source": [
    "# ROC curve\n",
    "draw_roc_auc(y_test, X_test, clf_RF)"
   ]
  },
  {
   "cell_type": "markdown",
   "metadata": {},
   "source": [
    "##### GridSearchCV for bag of words"
   ]
  },
  {
   "cell_type": "code",
   "execution_count": 39,
   "metadata": {},
   "outputs": [],
   "source": [
    "# Set random seed\n",
    "np.random.seed(0)"
   ]
  },
  {
   "cell_type": "code",
   "execution_count": 40,
   "metadata": {},
   "outputs": [],
   "source": [
    "# Create a pipeline\n",
    "pipe = Pipeline([('classifier', RandomForestClassifier())])"
   ]
  },
  {
   "cell_type": "code",
   "execution_count": 41,
   "metadata": {},
   "outputs": [],
   "source": [
    "# Create space of candidate learning algorithms and their hyperparameters\n",
    "search_space = [{'classifier': [LogisticRegression()]},\n",
    "                {'classifier': [DecisionTreeClassifier()]},\n",
    "                {'classifier': [RandomForestClassifier()]}]"
   ]
  },
  {
   "cell_type": "code",
   "execution_count": 42,
   "metadata": {},
   "outputs": [],
   "source": [
    "# Create grid search \n",
    "clf_compare = GridSearchCV(pipe, search_space, cv=5, verbose=0)"
   ]
  },
  {
   "cell_type": "code",
   "execution_count": 43,
   "metadata": {},
   "outputs": [],
   "source": [
    "# Fit grid search\n",
    "best_model = clf_compare.fit(X, y)"
   ]
  },
  {
   "cell_type": "code",
   "execution_count": 44,
   "metadata": {},
   "outputs": [
    {
     "data": {
      "text/plain": [
       "LogisticRegression(C=1.0, class_weight=None, dual=False, fit_intercept=True,\n",
       "                   intercept_scaling=1, l1_ratio=None, max_iter=100,\n",
       "                   multi_class='warn', n_jobs=None, penalty='l2',\n",
       "                   random_state=None, solver='warn', tol=0.0001, verbose=0,\n",
       "                   warm_start=False)"
      ]
     },
     "execution_count": 44,
     "metadata": {},
     "output_type": "execute_result"
    }
   ],
   "source": [
    "# View best model and its best hyperparameters\n",
    "best_model.best_estimator_.get_params()['classifier']"
   ]
  },
  {
   "cell_type": "code",
   "execution_count": null,
   "metadata": {},
   "outputs": [],
   "source": [
    "# For BoW, logistic regression is the best model"
   ]
  },
  {
   "cell_type": "markdown",
   "metadata": {},
   "source": [
    "### TF-IDF"
   ]
  },
  {
   "cell_type": "code",
   "execution_count": 45,
   "metadata": {},
   "outputs": [],
   "source": [
    "tfidf_sparse = scipy.sparse.csr_matrix(df_tfidf_features.values)"
   ]
  },
  {
   "cell_type": "code",
   "execution_count": 46,
   "metadata": {},
   "outputs": [],
   "source": [
    "X = tfidf_sparse\n",
    "y = df_reviews ['overall'].apply(lambda x: 1 if x >= 4 else 0)\n",
    "\n",
    "#train test split\n",
    "X_train,X_test,y_train,y_test = train_test_split(X,y,test_size = 0.3,random_state = 28)"
   ]
  },
  {
   "cell_type": "markdown",
   "metadata": {},
   "source": [
    "##### Logistic Regression"
   ]
  },
  {
   "cell_type": "code",
   "execution_count": 47,
   "metadata": {},
   "outputs": [],
   "source": [
    "logreg = LogisticRegression()"
   ]
  },
  {
   "cell_type": "code",
   "execution_count": 48,
   "metadata": {},
   "outputs": [
    {
     "data": {
      "text/plain": [
       "LogisticRegression(C=1.0, class_weight=None, dual=False, fit_intercept=True,\n",
       "                   intercept_scaling=1, l1_ratio=None, max_iter=100,\n",
       "                   multi_class='warn', n_jobs=None, penalty='l2',\n",
       "                   random_state=None, solver='warn', tol=0.0001, verbose=0,\n",
       "                   warm_start=False)"
      ]
     },
     "execution_count": 48,
     "metadata": {},
     "output_type": "execute_result"
    }
   ],
   "source": [
    "# fit the model with data\n",
    "logreg.fit(X_train,y_train)"
   ]
  },
  {
   "cell_type": "code",
   "execution_count": 49,
   "metadata": {},
   "outputs": [
    {
     "name": "stdout",
     "output_type": "stream",
     "text": [
      "Accuracy of logistic regression classifier on test set: 0.85\n"
     ]
    }
   ],
   "source": [
    "# predict using test data\n",
    "preds_LR=logreg.predict(X_test)\n",
    "print('Accuracy of logistic regression classifier on test set: {:.2f}'.format(logreg.score(X_test, y_test)))"
   ]
  },
  {
   "cell_type": "code",
   "execution_count": 50,
   "metadata": {},
   "outputs": [
    {
     "data": {
      "text/html": [
       "<div>\n",
       "<style scoped>\n",
       "    .dataframe tbody tr th:only-of-type {\n",
       "        vertical-align: middle;\n",
       "    }\n",
       "\n",
       "    .dataframe tbody tr th {\n",
       "        vertical-align: top;\n",
       "    }\n",
       "\n",
       "    .dataframe thead th {\n",
       "        text-align: right;\n",
       "    }\n",
       "</style>\n",
       "<table border=\"1\" class=\"dataframe\">\n",
       "  <thead>\n",
       "    <tr style=\"text-align: right;\">\n",
       "      <th>Predicted Result</th>\n",
       "      <th>0</th>\n",
       "      <th>1</th>\n",
       "    </tr>\n",
       "    <tr>\n",
       "      <th>Actual Result</th>\n",
       "      <th></th>\n",
       "      <th></th>\n",
       "    </tr>\n",
       "  </thead>\n",
       "  <tbody>\n",
       "    <tr>\n",
       "      <th>0</th>\n",
       "      <td>2173</td>\n",
       "      <td>3844</td>\n",
       "    </tr>\n",
       "    <tr>\n",
       "      <th>1</th>\n",
       "      <td>878</td>\n",
       "      <td>24277</td>\n",
       "    </tr>\n",
       "  </tbody>\n",
       "</table>\n",
       "</div>"
      ],
      "text/plain": [
       "Predicted Result     0      1\n",
       "Actual Result                \n",
       "0                 2173   3844\n",
       "1                  878  24277"
      ]
     },
     "execution_count": 50,
     "metadata": {},
     "output_type": "execute_result"
    }
   ],
   "source": [
    "# Check the Accuracy of the Model\n",
    "cm_LR=pd.crosstab(y_test, preds_LR, rownames=['Actual Result'], colnames=['Predicted Result'])\n",
    "cm_LR"
   ]
  },
  {
   "cell_type": "code",
   "execution_count": 51,
   "metadata": {},
   "outputs": [
    {
     "name": "stdout",
     "output_type": "stream",
     "text": [
      "0.9650964023057046 0.8633050033782582\n",
      "F-score of Logistic Regression: 0.91\n"
     ]
    }
   ],
   "source": [
    "# recall and precision\n",
    "recall_LR= cm_LR.iloc[1,1]/(cm_LR.iloc[1,1]+cm_LR.iloc[1,0])\n",
    "precision_LR=cm_LR.iloc[1,1]/(cm_LR.iloc[1,1]+cm_LR.iloc[0,1])\n",
    "print(recall_LR,precision_LR)\n",
    "F_Score_LR = (2 * recall_LR * precision_LR) / (recall_LR + precision_LR)\n",
    "print('F-score of Logistic Regression: %.2f' % F_Score_LR)"
   ]
  },
  {
   "cell_type": "code",
   "execution_count": 52,
   "metadata": {},
   "outputs": [
    {
     "data": {
      "image/png": "[encoded data removed]",
      "text/plain": [
       "<Figure size 432x288 with 1 Axes>"
      ]
     },
     "metadata": {
      "needs_background": "light"
     },
     "output_type": "display_data"
    }
   ],
   "source": [
    "# ROC curve\n",
    "draw_roc_auc(y_test, X_test, logreg)"
   ]
  },
  {
   "cell_type": "markdown",
   "metadata": {},
   "source": [
    "##### Decision Tree"
   ]
  },
  {
   "cell_type": "code",
   "execution_count": 53,
   "metadata": {},
   "outputs": [],
   "source": [
    "clf_DT = DecisionTreeClassifier()"
   ]
  },
  {
   "cell_type": "code",
   "execution_count": 54,
   "metadata": {},
   "outputs": [
    {
     "data": {
      "text/plain": [
       "DecisionTreeClassifier(class_weight=None, criterion='gini', max_depth=None,\n",
       "                       max_features=None, max_leaf_nodes=None,\n",
       "                       min_impurity_decrease=0.0, min_impurity_split=None,\n",
       "                       min_samples_leaf=1, min_samples_split=2,\n",
       "                       min_weight_fraction_leaf=0.0, presort=False,\n",
       "                       random_state=None, splitter='best')"
      ]
     },
     "execution_count": 54,
     "metadata": {},
     "output_type": "execute_result"
    }
   ],
   "source": [
    "clf_DT.fit(X_train,y_train)"
   ]
  },
  {
   "cell_type": "code",
   "execution_count": 55,
   "metadata": {},
   "outputs": [
    {
     "name": "stdout",
     "output_type": "stream",
     "text": [
      "Accuracy of decision tree on test set: 0.76\n"
     ]
    }
   ],
   "source": [
    "# predict using test data\n",
    "preds_DT = clf_DT.predict(X_test)\n",
    "print('Accuracy of decision tree on test set: {:.2f}'.format(clf_DT.score(X_test, y_test)))"
   ]
  },
  {
   "cell_type": "code",
   "execution_count": 56,
   "metadata": {},
   "outputs": [
    {
     "data": {
      "text/html": [
       "<div>\n",
       "<style scoped>\n",
       "    .dataframe tbody tr th:only-of-type {\n",
       "        vertical-align: middle;\n",
       "    }\n",
       "\n",
       "    .dataframe tbody tr th {\n",
       "        vertical-align: top;\n",
       "    }\n",
       "\n",
       "    .dataframe thead th {\n",
       "        text-align: right;\n",
       "    }\n",
       "</style>\n",
       "<table border=\"1\" class=\"dataframe\">\n",
       "  <thead>\n",
       "    <tr style=\"text-align: right;\">\n",
       "      <th>Predicted Result</th>\n",
       "      <th>0</th>\n",
       "      <th>1</th>\n",
       "    </tr>\n",
       "    <tr>\n",
       "      <th>Actual Result</th>\n",
       "      <th></th>\n",
       "      <th></th>\n",
       "    </tr>\n",
       "  </thead>\n",
       "  <tbody>\n",
       "    <tr>\n",
       "      <th>0</th>\n",
       "      <td>2071</td>\n",
       "      <td>3946</td>\n",
       "    </tr>\n",
       "    <tr>\n",
       "      <th>1</th>\n",
       "      <td>3578</td>\n",
       "      <td>21577</td>\n",
       "    </tr>\n",
       "  </tbody>\n",
       "</table>\n",
       "</div>"
      ],
      "text/plain": [
       "Predicted Result     0      1\n",
       "Actual Result                \n",
       "0                 2071   3946\n",
       "1                 3578  21577"
      ]
     },
     "execution_count": 56,
     "metadata": {},
     "output_type": "execute_result"
    }
   ],
   "source": [
    "# Check the Accuracy of the Model\n",
    "cm_DT=pd.crosstab(y_test, preds_DT, rownames=['Actual Result'], colnames=['Predicted Result'])\n",
    "cm_DT"
   ]
  },
  {
   "cell_type": "code",
   "execution_count": 57,
   "metadata": {},
   "outputs": [
    {
     "name": "stdout",
     "output_type": "stream",
     "text": [
      "0.8577618763665276 0.8453943501939427\n",
      "F-score of decision tree : 0.85\n"
     ]
    }
   ],
   "source": [
    "# recall and precision\n",
    "recall_DT= cm_DT.iloc[1,1]/(cm_DT.iloc[1,1]+cm_DT.iloc[1,0])\n",
    "precision_DT=cm_DT.iloc[1,1]/(cm_DT.iloc[1,1]+cm_DT.iloc[0,1])\n",
    "print(recall_DT,precision_DT)\n",
    "F_Score_DT = (2 * recall_DT * precision_DT) / (recall_DT + precision_DT)\n",
    "print('F-score of decision tree : %.2f' %F_Score_DT)"
   ]
  },
  {
   "cell_type": "code",
   "execution_count": 58,
   "metadata": {},
   "outputs": [
    {
     "data": {
      "image/png": "[encoded data removed]",
      "text/plain": [
       "<Figure size 432x288 with 1 Axes>"
      ]
     },
     "metadata": {
      "needs_background": "light"
     },
     "output_type": "display_data"
    }
   ],
   "source": [
    "# ROC curve\n",
    "draw_roc_auc(y_test, X_test, clf_DT)"
   ]
  },
  {
   "cell_type": "markdown",
   "metadata": {},
   "source": [
    "##### Random Forest"
   ]
  },
  {
   "cell_type": "code",
   "execution_count": 59,
   "metadata": {},
   "outputs": [],
   "source": [
    "clf_RF = RandomForestClassifier(n_jobs=2, random_state=0)"
   ]
  },
  {
   "cell_type": "code",
   "execution_count": 60,
   "metadata": {},
   "outputs": [
    {
     "data": {
      "text/plain": [
       "RandomForestClassifier(bootstrap=True, class_weight=None, criterion='gini',\n",
       "                       max_depth=None, max_features='auto', max_leaf_nodes=None,\n",
       "                       min_impurity_decrease=0.0, min_impurity_split=None,\n",
       "                       min_samples_leaf=1, min_samples_split=2,\n",
       "                       min_weight_fraction_leaf=0.0, n_estimators=10, n_jobs=2,\n",
       "                       oob_score=False, random_state=0, verbose=0,\n",
       "                       warm_start=False)"
      ]
     },
     "execution_count": 60,
     "metadata": {},
     "output_type": "execute_result"
    }
   ],
   "source": [
    "clf_RF.fit(X_train, y_train)"
   ]
  },
  {
   "cell_type": "code",
   "execution_count": 61,
   "metadata": {},
   "outputs": [
    {
     "name": "stdout",
     "output_type": "stream",
     "text": [
      "Accuracy of Random Forest on test set: 0.82\n"
     ]
    }
   ],
   "source": [
    "# predict using test data\n",
    "preds_RF = clf_RF.predict(X_test)\n",
    "print('Accuracy of Random Forest on test set: {:.2f}'.format(clf_RF.score(X_test, y_test)))"
   ]
  },
  {
   "cell_type": "code",
   "execution_count": 62,
   "metadata": {},
   "outputs": [
    {
     "data": {
      "text/html": [
       "<div>\n",
       "<style scoped>\n",
       "    .dataframe tbody tr th:only-of-type {\n",
       "        vertical-align: middle;\n",
       "    }\n",
       "\n",
       "    .dataframe tbody tr th {\n",
       "        vertical-align: top;\n",
       "    }\n",
       "\n",
       "    .dataframe thead th {\n",
       "        text-align: right;\n",
       "    }\n",
       "</style>\n",
       "<table border=\"1\" class=\"dataframe\">\n",
       "  <thead>\n",
       "    <tr style=\"text-align: right;\">\n",
       "      <th>Predicted Result</th>\n",
       "      <th>0</th>\n",
       "      <th>1</th>\n",
       "    </tr>\n",
       "    <tr>\n",
       "      <th>Actual Result</th>\n",
       "      <th></th>\n",
       "      <th></th>\n",
       "    </tr>\n",
       "  </thead>\n",
       "  <tbody>\n",
       "    <tr>\n",
       "      <th>0</th>\n",
       "      <td>1141</td>\n",
       "      <td>4876</td>\n",
       "    </tr>\n",
       "    <tr>\n",
       "      <th>1</th>\n",
       "      <td>769</td>\n",
       "      <td>24386</td>\n",
       "    </tr>\n",
       "  </tbody>\n",
       "</table>\n",
       "</div>"
      ],
      "text/plain": [
       "Predicted Result     0      1\n",
       "Actual Result                \n",
       "0                 1141   4876\n",
       "1                  769  24386"
      ]
     },
     "execution_count": 62,
     "metadata": {},
     "output_type": "execute_result"
    }
   ],
   "source": [
    "# Check the Accuracy of the Model\n",
    "cm_RF=pd.crosstab(y_test, preds_RF, rownames=['Actual Result'], colnames=['Predicted Result'])\n",
    "cm_RF"
   ]
  },
  {
   "cell_type": "code",
   "execution_count": 63,
   "metadata": {},
   "outputs": [
    {
     "name": "stdout",
     "output_type": "stream",
     "text": [
      "0.9694295368713973 0.833367507347413\n",
      "F-score of Random Forest: 0.90\n"
     ]
    }
   ],
   "source": [
    "# recall and precision\n",
    "recall_RF= cm_RF.iloc[1,1]/(cm_RF.iloc[1,1]+cm_RF.iloc[1,0])\n",
    "precision_RF=cm_RF.iloc[1,1]/(cm_RF.iloc[1,1]+cm_RF.iloc[0,1])\n",
    "print(recall_RF,precision_RF)\n",
    "F_Score_RF = (2 * recall_RF * precision_RF) / (recall_RF + precision_RF)\n",
    "print('F-score of Random Forest: %.2f' %F_Score_RF)"
   ]
  },
  {
   "cell_type": "code",
   "execution_count": 64,
   "metadata": {},
   "outputs": [
    {
     "data": {
      "image/png": "[encoded data removed]",
      "text/plain": [
       "<Figure size 432x288 with 1 Axes>"
      ]
     },
     "metadata": {
      "needs_background": "light"
     },
     "output_type": "display_data"
    }
   ],
   "source": [
    "# ROC curve\n",
    "draw_roc_auc(y_test, X_test, clf_RF)"
   ]
  },
  {
   "cell_type": "markdown",
   "metadata": {},
   "source": [
    "##### GridSearchCV for TF-IDF"
   ]
  },
  {
   "cell_type": "code",
   "execution_count": 65,
   "metadata": {},
   "outputs": [],
   "source": [
    "# Set random seed\n",
    "np.random.seed(0)"
   ]
  },
  {
   "cell_type": "code",
   "execution_count": 66,
   "metadata": {},
   "outputs": [],
   "source": [
    "# Create a pipeline\n",
    "pipe = Pipeline([('classifier', RandomForestClassifier())])"
   ]
  },
  {
   "cell_type": "code",
   "execution_count": 67,
   "metadata": {},
   "outputs": [],
   "source": [
    "# Create space of candidate learning algorithms and their hyperparameters\n",
    "search_space = [{'classifier': [LogisticRegression()]},\n",
    "                {'classifier': [DecisionTreeClassifier()]},\n",
    "                {'classifier': [RandomForestClassifier()]}]"
   ]
  },
  {
   "cell_type": "code",
   "execution_count": 68,
   "metadata": {},
   "outputs": [],
   "source": [
    "# Create grid search \n",
    "clf_compare = GridSearchCV(pipe, search_space, cv=5, verbose=0)"
   ]
  },
  {
   "cell_type": "code",
   "execution_count": 69,
   "metadata": {},
   "outputs": [],
   "source": [
    "# Fit grid search\n",
    "best_model = clf_compare.fit(X, y)"
   ]
  },
  {
   "cell_type": "code",
   "execution_count": 70,
   "metadata": {},
   "outputs": [
    {
     "data": {
      "text/plain": [
       "LogisticRegression(C=1.0, class_weight=None, dual=False, fit_intercept=True,\n",
       "                   intercept_scaling=1, l1_ratio=None, max_iter=100,\n",
       "                   multi_class='warn', n_jobs=None, penalty='l2',\n",
       "                   random_state=None, solver='warn', tol=0.0001, verbose=0,\n",
       "                   warm_start=False)"
      ]
     },
     "execution_count": 70,
     "metadata": {},
     "output_type": "execute_result"
    }
   ],
   "source": [
    "# View best model and its best hyperparameters\n",
    "best_model.best_estimator_.get_params()['classifier']"
   ]
  },
  {
   "cell_type": "code",
   "execution_count": null,
   "metadata": {},
   "outputs": [],
   "source": [
    "# For TF-IDF, logistic regression is the best model"
   ]
  },
  {
   "cell_type": "markdown",
   "metadata": {},
   "source": [
    "### Bigrams"
   ]
  },
  {
   "cell_type": "code",
   "execution_count": 71,
   "metadata": {},
   "outputs": [],
   "source": [
    "bigram_sparse = scipy.sparse.csr_matrix(df_bigram.values)"
   ]
  },
  {
   "cell_type": "code",
   "execution_count": 72,
   "metadata": {},
   "outputs": [],
   "source": [
    "X = bigram_sparse\n",
    "y = df_reviews['overall'].apply(lambda x: 1 if x >= 4 else 0)\n",
    "#train test split\n",
    "X_train,X_test,y_train,y_test = train_test_split(X,y,test_size = 0.3,random_state = 28)"
   ]
  },
  {
   "cell_type": "markdown",
   "metadata": {},
   "source": [
    "##### Logistic Regression"
   ]
  },
  {
   "cell_type": "code",
   "execution_count": 73,
   "metadata": {},
   "outputs": [],
   "source": [
    "logreg = LogisticRegression()"
   ]
  },
  {
   "cell_type": "code",
   "execution_count": 74,
   "metadata": {},
   "outputs": [
    {
     "data": {
      "text/plain": [
       "LogisticRegression(C=1.0, class_weight=None, dual=False, fit_intercept=True,\n",
       "                   intercept_scaling=1, l1_ratio=None, max_iter=100,\n",
       "                   multi_class='warn', n_jobs=None, penalty='l2',\n",
       "                   random_state=None, solver='warn', tol=0.0001, verbose=0,\n",
       "                   warm_start=False)"
      ]
     },
     "execution_count": 74,
     "metadata": {},
     "output_type": "execute_result"
    }
   ],
   "source": [
    "# fit the model with data\n",
    "logreg.fit(X_train,y_train)"
   ]
  },
  {
   "cell_type": "code",
   "execution_count": 75,
   "metadata": {},
   "outputs": [
    {
     "name": "stdout",
     "output_type": "stream",
     "text": [
      "Accuracy of logistic regression classifier on test set: 0.83\n"
     ]
    }
   ],
   "source": [
    "# predict using test data\n",
    "preds_LR=logreg.predict(X_test)\n",
    "print('Accuracy of logistic regression classifier on test set: {:.2f}'.format(logreg.score(X_test, y_test)))"
   ]
  },
  {
   "cell_type": "code",
   "execution_count": 76,
   "metadata": {},
   "outputs": [
    {
     "data": {
      "text/html": [
       "<div>\n",
       "<style scoped>\n",
       "    .dataframe tbody tr th:only-of-type {\n",
       "        vertical-align: middle;\n",
       "    }\n",
       "\n",
       "    .dataframe tbody tr th {\n",
       "        vertical-align: top;\n",
       "    }\n",
       "\n",
       "    .dataframe thead th {\n",
       "        text-align: right;\n",
       "    }\n",
       "</style>\n",
       "<table border=\"1\" class=\"dataframe\">\n",
       "  <thead>\n",
       "    <tr style=\"text-align: right;\">\n",
       "      <th>Predicted Result</th>\n",
       "      <th>0</th>\n",
       "      <th>1</th>\n",
       "    </tr>\n",
       "    <tr>\n",
       "      <th>Actual Result</th>\n",
       "      <th></th>\n",
       "      <th></th>\n",
       "    </tr>\n",
       "  </thead>\n",
       "  <tbody>\n",
       "    <tr>\n",
       "      <th>0</th>\n",
       "      <td>1373</td>\n",
       "      <td>4644</td>\n",
       "    </tr>\n",
       "    <tr>\n",
       "      <th>1</th>\n",
       "      <td>719</td>\n",
       "      <td>24436</td>\n",
       "    </tr>\n",
       "  </tbody>\n",
       "</table>\n",
       "</div>"
      ],
      "text/plain": [
       "Predicted Result     0      1\n",
       "Actual Result                \n",
       "0                 1373   4644\n",
       "1                  719  24436"
      ]
     },
     "execution_count": 76,
     "metadata": {},
     "output_type": "execute_result"
    }
   ],
   "source": [
    "# Check the Accuracy of the Model\n",
    "cm_LR=pd.crosstab(y_test, preds_LR, rownames=['Actual Result'], colnames=['Predicted Result'])\n",
    "cm_LR"
   ]
  },
  {
   "cell_type": "code",
   "execution_count": 77,
   "metadata": {},
   "outputs": [
    {
     "name": "stdout",
     "output_type": "stream",
     "text": [
      "0.9714172132776784 0.840302613480055\n",
      "F-score of Logistic Regression: 0.90\n"
     ]
    }
   ],
   "source": [
    "# recall and precision\n",
    "recall_LR= cm_LR.iloc[1,1]/(cm_LR.iloc[1,1]+cm_LR.iloc[1,0])\n",
    "precision_LR=cm_LR.iloc[1,1]/(cm_LR.iloc[1,1]+cm_LR.iloc[0,1])\n",
    "print(recall_LR,precision_LR)\n",
    "F_Score_LR = (2 * recall_LR * precision_LR) / (recall_LR + precision_LR)\n",
    "print('F-score of Logistic Regression: %.2f' % F_Score_LR)"
   ]
  },
  {
   "cell_type": "code",
   "execution_count": 78,
   "metadata": {},
   "outputs": [
    {
     "data": {
      "image/png": "[encoded data removed]",
      "text/plain": [
       "<Figure size 432x288 with 1 Axes>"
      ]
     },
     "metadata": {
      "needs_background": "light"
     },
     "output_type": "display_data"
    }
   ],
   "source": [
    "# ROC curve\n",
    "draw_roc_auc(y_test, X_test, logreg)"
   ]
  },
  {
   "cell_type": "markdown",
   "metadata": {},
   "source": [
    "##### Decision Tree"
   ]
  },
  {
   "cell_type": "code",
   "execution_count": 79,
   "metadata": {},
   "outputs": [],
   "source": [
    "clf_DT = DecisionTreeClassifier()"
   ]
  },
  {
   "cell_type": "code",
   "execution_count": 80,
   "metadata": {},
   "outputs": [
    {
     "data": {
      "text/plain": [
       "DecisionTreeClassifier(class_weight=None, criterion='gini', max_depth=None,\n",
       "                       max_features=None, max_leaf_nodes=None,\n",
       "                       min_impurity_decrease=0.0, min_impurity_split=None,\n",
       "                       min_samples_leaf=1, min_samples_split=2,\n",
       "                       min_weight_fraction_leaf=0.0, presort=False,\n",
       "                       random_state=None, splitter='best')"
      ]
     },
     "execution_count": 80,
     "metadata": {},
     "output_type": "execute_result"
    }
   ],
   "source": [
    "clf_DT.fit(X_train,y_train)"
   ]
  },
  {
   "cell_type": "code",
   "execution_count": 81,
   "metadata": {},
   "outputs": [
    {
     "name": "stdout",
     "output_type": "stream",
     "text": [
      "Accuracy of decision tree on test set: 0.74\n"
     ]
    }
   ],
   "source": [
    "# predict using test data\n",
    "preds_DT = clf_DT.predict(X_test)\n",
    "print('Accuracy of decision tree on test set: {:.2f}'.format(clf_DT.score(X_test, y_test)))"
   ]
  },
  {
   "cell_type": "code",
   "execution_count": 82,
   "metadata": {},
   "outputs": [
    {
     "data": {
      "text/html": [
       "<div>\n",
       "<style scoped>\n",
       "    .dataframe tbody tr th:only-of-type {\n",
       "        vertical-align: middle;\n",
       "    }\n",
       "\n",
       "    .dataframe tbody tr th {\n",
       "        vertical-align: top;\n",
       "    }\n",
       "\n",
       "    .dataframe thead th {\n",
       "        text-align: right;\n",
       "    }\n",
       "</style>\n",
       "<table border=\"1\" class=\"dataframe\">\n",
       "  <thead>\n",
       "    <tr style=\"text-align: right;\">\n",
       "      <th>Predicted Result</th>\n",
       "      <th>0</th>\n",
       "      <th>1</th>\n",
       "    </tr>\n",
       "    <tr>\n",
       "      <th>Actual Result</th>\n",
       "      <th></th>\n",
       "      <th></th>\n",
       "    </tr>\n",
       "  </thead>\n",
       "  <tbody>\n",
       "    <tr>\n",
       "      <th>0</th>\n",
       "      <td>2131</td>\n",
       "      <td>3886</td>\n",
       "    </tr>\n",
       "    <tr>\n",
       "      <th>1</th>\n",
       "      <td>4153</td>\n",
       "      <td>21002</td>\n",
       "    </tr>\n",
       "  </tbody>\n",
       "</table>\n",
       "</div>"
      ],
      "text/plain": [
       "Predicted Result     0      1\n",
       "Actual Result                \n",
       "0                 2131   3886\n",
       "1                 4153  21002"
      ]
     },
     "execution_count": 82,
     "metadata": {},
     "output_type": "execute_result"
    }
   ],
   "source": [
    "# Check the Accuracy of the Model\n",
    "cm_DT=pd.crosstab(y_test, preds_DT, rownames=['Actual Result'], colnames=['Predicted Result'])\n",
    "cm_DT"
   ]
  },
  {
   "cell_type": "code",
   "execution_count": 83,
   "metadata": {},
   "outputs": [
    {
     "name": "stdout",
     "output_type": "stream",
     "text": [
      "0.8349035976942953 0.8438604950176792\n",
      "F-score of decision tree : 0.84\n"
     ]
    }
   ],
   "source": [
    "# recall and precision\n",
    "recall_DT= cm_DT.iloc[1,1]/(cm_DT.iloc[1,1]+cm_DT.iloc[1,0])\n",
    "precision_DT=cm_DT.iloc[1,1]/(cm_DT.iloc[1,1]+cm_DT.iloc[0,1])\n",
    "print(recall_DT,precision_DT)\n",
    "F_Score_DT = (2 * recall_DT * precision_DT) / (recall_DT + precision_DT)\n",
    "print('F-score of decision tree : %.2f' %F_Score_DT)"
   ]
  },
  {
   "cell_type": "code",
   "execution_count": 84,
   "metadata": {},
   "outputs": [
    {
     "data": {
      "image/png": "[encoded data removed]",
      "text/plain": [
       "<Figure size 432x288 with 1 Axes>"
      ]
     },
     "metadata": {
      "needs_background": "light"
     },
     "output_type": "display_data"
    }
   ],
   "source": [
    "# ROC curve\n",
    "draw_roc_auc(y_test, X_test, clf_DT)"
   ]
  },
  {
   "cell_type": "markdown",
   "metadata": {},
   "source": [
    "##### Random Forest"
   ]
  },
  {
   "cell_type": "code",
   "execution_count": 85,
   "metadata": {},
   "outputs": [],
   "source": [
    "clf_RF = RandomForestClassifier(n_jobs=2, random_state=0)"
   ]
  },
  {
   "cell_type": "code",
   "execution_count": 86,
   "metadata": {},
   "outputs": [
    {
     "data": {
      "text/plain": [
       "RandomForestClassifier(bootstrap=True, class_weight=None, criterion='gini',\n",
       "                       max_depth=None, max_features='auto', max_leaf_nodes=None,\n",
       "                       min_impurity_decrease=0.0, min_impurity_split=None,\n",
       "                       min_samples_leaf=1, min_samples_split=2,\n",
       "                       min_weight_fraction_leaf=0.0, n_estimators=10, n_jobs=2,\n",
       "                       oob_score=False, random_state=0, verbose=0,\n",
       "                       warm_start=False)"
      ]
     },
     "execution_count": 86,
     "metadata": {},
     "output_type": "execute_result"
    }
   ],
   "source": [
    "clf_RF.fit(X_train, y_train)"
   ]
  },
  {
   "cell_type": "code",
   "execution_count": 87,
   "metadata": {},
   "outputs": [
    {
     "name": "stdout",
     "output_type": "stream",
     "text": [
      "Accuracy of Random Forest on test set: 0.80\n"
     ]
    }
   ],
   "source": [
    "# predict using test data\n",
    "preds_RF = clf_RF.predict(X_test)\n",
    "print('Accuracy of Random Forest on test set: {:.2f}'.format(clf_RF.score(X_test, y_test)))"
   ]
  },
  {
   "cell_type": "code",
   "execution_count": 88,
   "metadata": {},
   "outputs": [
    {
     "data": {
      "text/html": [
       "<div>\n",
       "<style scoped>\n",
       "    .dataframe tbody tr th:only-of-type {\n",
       "        vertical-align: middle;\n",
       "    }\n",
       "\n",
       "    .dataframe tbody tr th {\n",
       "        vertical-align: top;\n",
       "    }\n",
       "\n",
       "    .dataframe thead th {\n",
       "        text-align: right;\n",
       "    }\n",
       "</style>\n",
       "<table border=\"1\" class=\"dataframe\">\n",
       "  <thead>\n",
       "    <tr style=\"text-align: right;\">\n",
       "      <th>Predicted Result</th>\n",
       "      <th>0</th>\n",
       "      <th>1</th>\n",
       "    </tr>\n",
       "    <tr>\n",
       "      <th>Actual Result</th>\n",
       "      <th></th>\n",
       "      <th></th>\n",
       "    </tr>\n",
       "  </thead>\n",
       "  <tbody>\n",
       "    <tr>\n",
       "      <th>0</th>\n",
       "      <td>1695</td>\n",
       "      <td>4322</td>\n",
       "    </tr>\n",
       "    <tr>\n",
       "      <th>1</th>\n",
       "      <td>2014</td>\n",
       "      <td>23141</td>\n",
       "    </tr>\n",
       "  </tbody>\n",
       "</table>\n",
       "</div>"
      ],
      "text/plain": [
       "Predicted Result     0      1\n",
       "Actual Result                \n",
       "0                 1695   4322\n",
       "1                 2014  23141"
      ]
     },
     "execution_count": 88,
     "metadata": {},
     "output_type": "execute_result"
    }
   ],
   "source": [
    "# Check the Accuracy of the Model\n",
    "cm_RF=pd.crosstab(y_test, preds_RF, rownames=['Actual Result'], colnames=['Predicted Result'])\n",
    "cm_RF"
   ]
  },
  {
   "cell_type": "code",
   "execution_count": 89,
   "metadata": {},
   "outputs": [
    {
     "name": "stdout",
     "output_type": "stream",
     "text": [
      "0.919936394354999 0.8426246222189856\n",
      "F-score of Random Forest: 0.88\n"
     ]
    }
   ],
   "source": [
    "# recall and precision\n",
    "recall_RF= cm_RF.iloc[1,1]/(cm_RF.iloc[1,1]+cm_RF.iloc[1,0])\n",
    "precision_RF=cm_RF.iloc[1,1]/(cm_RF.iloc[1,1]+cm_RF.iloc[0,1])\n",
    "print(recall_RF,precision_RF)\n",
    "F_Score_RF = (2 * recall_RF * precision_RF) / (recall_RF + precision_RF)\n",
    "print('F-score of Random Forest: %.2f' %F_Score_RF)"
   ]
  },
  {
   "cell_type": "code",
   "execution_count": 90,
   "metadata": {},
   "outputs": [
    {
     "data": {
      "image/png": "[encoded data removed]",
      "text/plain": [
       "<Figure size 432x288 with 1 Axes>"
      ]
     },
     "metadata": {
      "needs_background": "light"
     },
     "output_type": "display_data"
    }
   ],
   "source": [
    "# ROC curve\n",
    "draw_roc_auc(y_test, X_test, clf_RF)"
   ]
  },
  {
   "cell_type": "markdown",
   "metadata": {},
   "source": [
    "##### GridSearchCV for Bi-Grams"
   ]
  },
  {
   "cell_type": "code",
   "execution_count": 91,
   "metadata": {},
   "outputs": [],
   "source": [
    "# Set random seed\n",
    "np.random.seed(0)"
   ]
  },
  {
   "cell_type": "code",
   "execution_count": 92,
   "metadata": {},
   "outputs": [],
   "source": [
    "# Create a pipeline\n",
    "pipe = Pipeline([('classifier', RandomForestClassifier())])"
   ]
  },
  {
   "cell_type": "code",
   "execution_count": 93,
   "metadata": {},
   "outputs": [],
   "source": [
    "# Create space of candidate learning algorithms and their hyperparameters\n",
    "search_space = [{'classifier': [LogisticRegression()]},\n",
    "                {'classifier': [DecisionTreeClassifier()]},\n",
    "                {'classifier': [RandomForestClassifier()]}]"
   ]
  },
  {
   "cell_type": "code",
   "execution_count": 94,
   "metadata": {},
   "outputs": [],
   "source": [
    "# Create grid search \n",
    "clf_compare = GridSearchCV(pipe, search_space, cv=5, verbose=0)"
   ]
  },
  {
   "cell_type": "code",
   "execution_count": 95,
   "metadata": {},
   "outputs": [],
   "source": [
    "# Fit grid search\n",
    "best_model = clf_compare.fit(X, y)"
   ]
  },
  {
   "cell_type": "code",
   "execution_count": 96,
   "metadata": {},
   "outputs": [
    {
     "data": {
      "text/plain": [
       "LogisticRegression(C=1.0, class_weight=None, dual=False, fit_intercept=True,\n",
       "                   intercept_scaling=1, l1_ratio=None, max_iter=100,\n",
       "                   multi_class='warn', n_jobs=None, penalty='l2',\n",
       "                   random_state=None, solver='warn', tol=0.0001, verbose=0,\n",
       "                   warm_start=False)"
      ]
     },
     "execution_count": 96,
     "metadata": {},
     "output_type": "execute_result"
    }
   ],
   "source": [
    "# View best model and its best hyperparameters\n",
    "best_model.best_estimator_.get_params()['classifier']"
   ]
  },
  {
   "cell_type": "code",
   "execution_count": null,
   "metadata": {},
   "outputs": [],
   "source": [
    "# For Bi-Grams, logistic regression is the best model"
   ]
  },
  {
   "cell_type": "markdown",
   "metadata": {},
   "source": [
    "### Model Selection"
   ]
  },
  {
   "cell_type": "code",
   "execution_count": null,
   "metadata": {},
   "outputs": [],
   "source": [
    "# GridSearchCV shows that the best model is logistic regression, regardless of vectorization method.\n",
    "# It is better to complement GridSearchCV with other metrics such as confusion matrix, ROC etc. in order to reach a conclusion\n",
    "# Confusion matrix shows that logistic regression is better than the other two models as it has higher AUC and higher F-score\n",
    "\n",
    "# Then we compare three logistic regression models under three vectorization methods, TF-IDF gives the best result\n",
    "# so from a statistical perspective, logistic regression with TF-IDF is the best model"
   ]
  },
  {
   "cell_type": "code",
   "execution_count": null,
   "metadata": {},
   "outputs": [],
   "source": [
    "# In out business case, false positive is less severe than false negative since taking actions to address customer\n",
    "# satisfaction problem won't harm anyone; on the other hand, product marketing team might hate to lose opportunity\n",
    "# to address any negative feedbacks.\n",
    "# logistic regression gives the lowest false positive, thus it is still the best model from a business perspective"
   ]
  }
 ],
 "metadata": {
  "kernelspec": {
   "display_name": "Python 3",
   "language": "python",
   "name": "python3"
  },
  "language_info": {
   "codemirror_mode": {
    "name": "ipython",
    "version": 3
   },
   "file_extension": ".py",
   "mimetype": "text/x-python",
   "name": "python",
   "nbconvert_exporter": "python",
   "pygments_lexer": "ipython3",
   "version": "3.7.3"
  },
  "toc": {
   "base_numbering": 1,
   "nav_menu": {},
   "number_sections": true,
   "sideBar": true,
   "skip_h1_title": false,
   "title_cell": "Table of Contents",
   "title_sidebar": "Contents",
   "toc_cell": false,
   "toc_position": {},
   "toc_section_display": true,
   "toc_window_display": false
  },
  "varInspector": {
   "cols": {
    "lenName": 16,
    "lenType": 16,
    "lenVar": 40
   },
   "kernels_config": {
    "python": {
     "delete_cmd_postfix": "",
     "delete_cmd_prefix": "del ",
     "library": "var_list.py",
     "varRefreshCmd": "print(var_dic_list())"
    },
    "r": {
     "delete_cmd_postfix": ") ",
     "delete_cmd_prefix": "rm(",
     "library": "var_list.r",
     "varRefreshCmd": "cat(var_dic_list()) "
    }
   },
   "types_to_exclude": [
    "module",
    "function",
    "builtin_function_or_method",
    "instance",
    "_Feature"
   ],
   "window_display": false
  }
 },
 "nbformat": 4,
 "nbformat_minor": 4
}
